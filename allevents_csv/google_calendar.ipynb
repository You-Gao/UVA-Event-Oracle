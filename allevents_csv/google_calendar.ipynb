{
 "cells": [
  {
   "cell_type": "code",
   "execution_count": 1,
   "metadata": {},
   "outputs": [],
   "source": [
    "import pandas as pd"
   ]
  },
  {
   "cell_type": "code",
   "execution_count": 2,
   "metadata": {},
   "outputs": [
    {
     "name": "stdout",
     "output_type": "stream",
     "text": [
      "Index(['Title', 'Start Time', 'End Time', 'Date', 'Location', 'Department',\n",
      "       'Site'],\n",
      "      dtype='object')\n"
     ]
    },
    {
     "data": {
      "text/html": [
       "<div>\n",
       "<style scoped>\n",
       "    .dataframe tbody tr th:only-of-type {\n",
       "        vertical-align: middle;\n",
       "    }\n",
       "\n",
       "    .dataframe tbody tr th {\n",
       "        vertical-align: top;\n",
       "    }\n",
       "\n",
       "    .dataframe thead th {\n",
       "        text-align: right;\n",
       "    }\n",
       "</style>\n",
       "<table border=\"1\" class=\"dataframe\">\n",
       "  <thead>\n",
       "    <tr style=\"text-align: right;\">\n",
       "      <th></th>\n",
       "      <th>Subject</th>\n",
       "      <th>Start Date</th>\n",
       "      <th>Start Time</th>\n",
       "      <th>End Time</th>\n",
       "      <th>Location</th>\n",
       "      <th>Description</th>\n",
       "    </tr>\n",
       "  </thead>\n",
       "  <tbody>\n",
       "    <tr>\n",
       "      <th>count</th>\n",
       "      <td>109</td>\n",
       "      <td>112</td>\n",
       "      <td>89</td>\n",
       "      <td>89</td>\n",
       "      <td>85</td>\n",
       "      <td>112</td>\n",
       "    </tr>\n",
       "    <tr>\n",
       "      <th>unique</th>\n",
       "      <td>105</td>\n",
       "      <td>25</td>\n",
       "      <td>23</td>\n",
       "      <td>27</td>\n",
       "      <td>62</td>\n",
       "      <td>22</td>\n",
       "    </tr>\n",
       "    <tr>\n",
       "      <th>top</th>\n",
       "      <td>Connaughton Speaker Series: A Founders Convers...</td>\n",
       "      <td>2024-04-26</td>\n",
       "      <td>05:00 PM</td>\n",
       "      <td>04:00 PM</td>\n",
       "      <td>Old Cabell Hall</td>\n",
       "      <td>https://www.virginia.edu/calendar</td>\n",
       "    </tr>\n",
       "    <tr>\n",
       "      <th>freq</th>\n",
       "      <td>2</td>\n",
       "      <td>33</td>\n",
       "      <td>10</td>\n",
       "      <td>9</td>\n",
       "      <td>6</td>\n",
       "      <td>29</td>\n",
       "    </tr>\n",
       "  </tbody>\n",
       "</table>\n",
       "</div>"
      ],
      "text/plain": [
       "                                                  Subject  Start Date  \\\n",
       "count                                                 109         112   \n",
       "unique                                                105          25   \n",
       "top     Connaughton Speaker Series: A Founders Convers...  2024-04-26   \n",
       "freq                                                    2          33   \n",
       "\n",
       "       Start Time  End Time         Location  \\\n",
       "count          89        89               85   \n",
       "unique         23        27               62   \n",
       "top      05:00 PM  04:00 PM  Old Cabell Hall   \n",
       "freq           10         9                6   \n",
       "\n",
       "                              Description  \n",
       "count                                 112  \n",
       "unique                                 22  \n",
       "top     https://www.virginia.edu/calendar  \n",
       "freq                                   29  "
      ]
     },
     "execution_count": 2,
     "metadata": {},
     "output_type": "execute_result"
    }
   ],
   "source": [
    "all_events = pd.read_csv('all_events.csv') \n",
    "print(all_events.columns)\n",
    "nan_with_date_events = pd.read_csv('nan_with_date_events.csv')\n",
    "nan_events = pd.read_csv('nan_events.csv')\n",
    "nan_events = nan_events[nan_events[\"Date\"].notnull()]\n",
    "all_events = pd.concat([all_events, nan_with_date_events, nan_events], ignore_index=True)\n",
    "all_events.rename(columns={\"Title\":\"Subject\", \"Date\":\"Start Date\", \"Time\":\"Start Time\", \"Site\":\"Description\"}, inplace=True)\n",
    "all_events = all_events.reindex(columns=[\"Subject\", \"Start Date\", \"Start Time\", \"End Time\", \"Location\", \"Description\" ])\n",
    "all_events.describe()"
   ]
  },
  {
   "cell_type": "code",
   "execution_count": 3,
   "metadata": {},
   "outputs": [
    {
     "name": "stdout",
     "output_type": "stream",
     "text": [
      "Set 1 All: 22 Set 2 Extracted: 13 Intersection: 9\n",
      "{'https://www.arch.virginia.edu/events?search=&start=&end=&range=upcoming&events=&pageindex=0&pagesize=20', 'https://cal.lib.virginia.edu/calendar/events?cid=4299&t=m&d=0000-00-00&cal=4299&ct=69160,33395,66337,31015,30813,51597,58853,58854,58855,58856,70846,45972,31362,27888,30045,27381,57994,54907,26930,29624,56703,66253,66255,66338,46136,70848,33496,70427,27725,29618,63738,28898,33396,38996,50481,70849,51598,29985&inc=0', 'https://scholarslab.lib.virginia.edu/events/', 'https://events.batten.virginia.edu/'}\n"
     ]
    }
   ],
   "source": [
    "import os\n",
    "file_path = os.path.join(\"..\", \"sites.txt\")\n",
    "\n",
    "with open(file_path) as f:\n",
    "    lines = f.readlines()\n",
    "    lines = [line.rstrip() for line in lines]\n",
    "\n",
    "set1 = set(all_events[\"Description\"].unique())\n",
    "set2 = set(lines)\n",
    "intersection = set1.intersection(set2)\n",
    "print(f'Set 1 All: {len(set1)}', f'Set 2 Extracted: {len(set2)}', f'Intersection: {len(intersection)}')\n",
    "print(set2.difference(set1))\n"
   ]
  },
  {
   "cell_type": "code",
   "execution_count": 4,
   "metadata": {},
   "outputs": [],
   "source": [
    "all_events.to_csv('g_all_events.csv', index=False)"
   ]
  }
 ],
 "metadata": {
  "kernelspec": {
   "display_name": "Python 3",
   "language": "python",
   "name": "python3"
  },
  "language_info": {
   "codemirror_mode": {
    "name": "ipython",
    "version": 3
   },
   "file_extension": ".py",
   "mimetype": "text/x-python",
   "name": "python",
   "nbconvert_exporter": "python",
   "pygments_lexer": "ipython3",
   "version": "3.12.2"
  }
 },
 "nbformat": 4,
 "nbformat_minor": 2
}

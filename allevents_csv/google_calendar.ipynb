{
 "cells": [
  {
   "cell_type": "code",
   "execution_count": 1,
   "metadata": {},
   "outputs": [],
   "source": [
    "import pandas as pd"
   ]
  },
  {
   "cell_type": "code",
   "execution_count": 2,
   "metadata": {},
   "outputs": [
    {
     "name": "stdout",
     "output_type": "stream",
     "text": [
      "Index(['Title', 'Start Time', 'End Time', 'Date', 'Location', 'Department',\n",
      "       'Site'],\n",
      "      dtype='object')\n"
     ]
    },
    {
     "data": {
      "text/html": [
       "<div>\n",
       "<style scoped>\n",
       "    .dataframe tbody tr th:only-of-type {\n",
       "        vertical-align: middle;\n",
       "    }\n",
       "\n",
       "    .dataframe tbody tr th {\n",
       "        vertical-align: top;\n",
       "    }\n",
       "\n",
       "    .dataframe thead th {\n",
       "        text-align: right;\n",
       "    }\n",
       "</style>\n",
       "<table border=\"1\" class=\"dataframe\">\n",
       "  <thead>\n",
       "    <tr style=\"text-align: right;\">\n",
       "      <th></th>\n",
       "      <th>Subject</th>\n",
       "      <th>Start Date</th>\n",
       "      <th>Start Time</th>\n",
       "      <th>End Time</th>\n",
       "      <th>Location</th>\n",
       "      <th>Description</th>\n",
       "    </tr>\n",
       "  </thead>\n",
       "  <tbody>\n",
       "    <tr>\n",
       "      <th>count</th>\n",
       "      <td>175</td>\n",
       "      <td>191</td>\n",
       "      <td>169</td>\n",
       "      <td>169</td>\n",
       "      <td>157</td>\n",
       "      <td>191</td>\n",
       "    </tr>\n",
       "    <tr>\n",
       "      <th>unique</th>\n",
       "      <td>102</td>\n",
       "      <td>28</td>\n",
       "      <td>25</td>\n",
       "      <td>27</td>\n",
       "      <td>54</td>\n",
       "      <td>34</td>\n",
       "    </tr>\n",
       "    <tr>\n",
       "      <th>top</th>\n",
       "      <td>The Prehistory of Social Media</td>\n",
       "      <td>2024-04-27</td>\n",
       "      <td>07:00 PM</td>\n",
       "      <td>04:00 PM</td>\n",
       "      <td>Clark Hall 107.</td>\n",
       "      <td>https://commcal.mcintire.virginia.edu/</td>\n",
       "    </tr>\n",
       "    <tr>\n",
       "      <th>freq</th>\n",
       "      <td>15</td>\n",
       "      <td>64</td>\n",
       "      <td>34</td>\n",
       "      <td>34</td>\n",
       "      <td>15</td>\n",
       "      <td>15</td>\n",
       "    </tr>\n",
       "  </tbody>\n",
       "</table>\n",
       "</div>"
      ],
      "text/plain": [
       "                               Subject  Start Date Start Time  End Time  \\\n",
       "count                              175         191        169       169   \n",
       "unique                             102          28         25        27   \n",
       "top     The Prehistory of Social Media  2024-04-27   07:00 PM  04:00 PM   \n",
       "freq                                15          64         34        34   \n",
       "\n",
       "               Location                             Description  \n",
       "count               157                                     191  \n",
       "unique               54                                      34  \n",
       "top     Clark Hall 107.  https://commcal.mcintire.virginia.edu/  \n",
       "freq                 15                                      15  "
      ]
     },
     "execution_count": 2,
     "metadata": {},
     "output_type": "execute_result"
    }
   ],
   "source": [
    "all_events = pd.read_csv('all_events.csv') \n",
    "print(all_events.columns)\n",
    "nan_with_date_events = pd.read_csv('nan_with_date_events.csv')\n",
    "nan_events = pd.read_csv('nan_events.csv')\n",
    "nan_events = nan_events[nan_events[\"Date\"].notnull()]\n",
    "all_events = pd.concat([all_events, nan_with_date_events, nan_events], ignore_index=True)\n",
    "all_events.rename(columns={\"Title\":\"Subject\", \"Date\":\"Start Date\", \"Time\":\"Start Time\", \"Site\":\"Description\"}, inplace=True)\n",
    "all_events = all_events.reindex(columns=[\"Subject\", \"Start Date\", \"Start Time\", \"End Time\", \"Location\", \"Description\" ])\n",
    "all_events.describe()"
   ]
  },
  {
   "cell_type": "code",
   "execution_count": 5,
   "metadata": {},
   "outputs": [
    {
     "data": {
      "text/plain": [
       "34"
      ]
     },
     "execution_count": 5,
     "metadata": {},
     "output_type": "execute_result"
    }
   ],
   "source": [
    "len(all_events[\"Description\"].unique())"
   ]
  },
  {
   "cell_type": "code",
   "execution_count": 3,
   "metadata": {},
   "outputs": [
    {
     "name": "stdout",
     "output_type": "stream",
     "text": [
      "Set 1 All: 34 Set 2 Extracted: 13 Intersection: 12\n",
      "{'https://www.arch.virginia.edu/events?search=&start=&end=&range=upcoming&events=&pageindex=0&pagesize=20'}\n"
     ]
    }
   ],
   "source": [
    "import os\n",
    "file_path = os.path.join(\"..\", \"sites.txt\")\n",
    "\n",
    "with open(file_path) as f:\n",
    "    lines = f.readlines()\n",
    "    lines = [line.rstrip() for line in lines]\n",
    "\n",
    "set1 = set(all_events[\"Description\"].unique())\n",
    "set2 = set(lines)\n",
    "intersection = set1.intersection(set2)\n",
    "print(f'Set 1 All: {len(set1)}', f'Set 2 Extracted: {len(set2)}', f'Intersection: {len(intersection)}')\n",
    "print(set2.difference(set1))\n"
   ]
  },
  {
   "cell_type": "code",
   "execution_count": 8,
   "metadata": {},
   "outputs": [
    {
     "ename": "FileNotFoundError",
     "evalue": "[WinError 3] The system cannot find the path specified: '/events_jsons'",
     "output_type": "error",
     "traceback": [
      "\u001b[1;31m---------------------------------------------------------------------------\u001b[0m",
      "\u001b[1;31mFileNotFoundError\u001b[0m                         Traceback (most recent call last)",
      "Cell \u001b[1;32mIn[8], line 1\u001b[0m\n\u001b[1;32m----> 1\u001b[0m \u001b[38;5;28mlen\u001b[39m(\u001b[43mos\u001b[49m\u001b[38;5;241;43m.\u001b[39;49m\u001b[43mlistdir\u001b[49m\u001b[43m(\u001b[49m\u001b[38;5;124;43m\"\u001b[39;49m\u001b[38;5;124;43m/events_jsons\u001b[39;49m\u001b[38;5;124;43m\"\u001b[39;49m\u001b[43m)\u001b[49m)\n",
      "\u001b[1;31mFileNotFoundError\u001b[0m: [WinError 3] The system cannot find the path specified: '/events_jsons'"
     ]
    }
   ],
   "source": []
  },
  {
   "cell_type": "code",
   "execution_count": 5,
   "metadata": {},
   "outputs": [],
   "source": [
    "all_events.to_csv('g_all_events.csv', index=False)"
   ]
  }
 ],
 "metadata": {
  "kernelspec": {
   "display_name": "Python 3",
   "language": "python",
   "name": "python3"
  },
  "language_info": {
   "codemirror_mode": {
    "name": "ipython",
    "version": 3
   },
   "file_extension": ".py",
   "mimetype": "text/x-python",
   "name": "python",
   "nbconvert_exporter": "python",
   "pygments_lexer": "ipython3",
   "version": "3.11.3"
  }
 },
 "nbformat": 4,
 "nbformat_minor": 2
}

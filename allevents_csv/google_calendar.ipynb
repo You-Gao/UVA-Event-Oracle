{
 "cells": [
  {
   "cell_type": "code",
   "execution_count": 2,
   "metadata": {},
   "outputs": [],
   "source": [
    "import pandas as pd"
   ]
  },
  {
   "cell_type": "code",
   "execution_count": 3,
   "metadata": {},
   "outputs": [
    {
     "name": "stdout",
     "output_type": "stream",
     "text": [
      "Index(['Title', 'Start Time', 'End Time', 'Date', 'Location', 'Department',\n",
      "       'Site', 'Event Topics', 'Event Sponsors'],\n",
      "      dtype='object')\n"
     ]
    },
    {
     "data": {
      "text/html": [
       "<div>\n",
       "<style scoped>\n",
       "    .dataframe tbody tr th:only-of-type {\n",
       "        vertical-align: middle;\n",
       "    }\n",
       "\n",
       "    .dataframe tbody tr th {\n",
       "        vertical-align: top;\n",
       "    }\n",
       "\n",
       "    .dataframe thead th {\n",
       "        text-align: right;\n",
       "    }\n",
       "</style>\n",
       "<table border=\"1\" class=\"dataframe\">\n",
       "  <thead>\n",
       "    <tr style=\"text-align: right;\">\n",
       "      <th></th>\n",
       "      <th>Subject</th>\n",
       "      <th>Start Date</th>\n",
       "      <th>Start Time</th>\n",
       "      <th>End Time</th>\n",
       "      <th>Location</th>\n",
       "      <th>Description</th>\n",
       "    </tr>\n",
       "  </thead>\n",
       "  <tbody>\n",
       "    <tr>\n",
       "      <th>count</th>\n",
       "      <td>70</td>\n",
       "      <td>71</td>\n",
       "      <td>47</td>\n",
       "      <td>47</td>\n",
       "      <td>44</td>\n",
       "      <td>71</td>\n",
       "    </tr>\n",
       "    <tr>\n",
       "      <th>unique</th>\n",
       "      <td>68</td>\n",
       "      <td>21</td>\n",
       "      <td>20</td>\n",
       "      <td>22</td>\n",
       "      <td>31</td>\n",
       "      <td>11</td>\n",
       "    </tr>\n",
       "    <tr>\n",
       "      <th>top</th>\n",
       "      <td>Putting Equity-Minded Policy Into Practice</td>\n",
       "      <td>2024-04-18</td>\n",
       "      <td>03:30 PM</td>\n",
       "      <td>05:00 PM</td>\n",
       "      <td>Monroe Hall, Room 120</td>\n",
       "      <td>https://www.virginia.edu/calendar</td>\n",
       "    </tr>\n",
       "    <tr>\n",
       "      <th>freq</th>\n",
       "      <td>2</td>\n",
       "      <td>21</td>\n",
       "      <td>6</td>\n",
       "      <td>6</td>\n",
       "      <td>7</td>\n",
       "      <td>20</td>\n",
       "    </tr>\n",
       "  </tbody>\n",
       "</table>\n",
       "</div>"
      ],
      "text/plain": [
       "                                           Subject  Start Date Start Time  \\\n",
       "count                                           70          71         47   \n",
       "unique                                          68          21         20   \n",
       "top     Putting Equity-Minded Policy Into Practice  2024-04-18   03:30 PM   \n",
       "freq                                             2          21          6   \n",
       "\n",
       "        End Time               Location                        Description  \n",
       "count         47                     44                                 71  \n",
       "unique        22                     31                                 11  \n",
       "top     05:00 PM  Monroe Hall, Room 120  https://www.virginia.edu/calendar  \n",
       "freq           6                      7                                 20  "
      ]
     },
     "execution_count": 3,
     "metadata": {},
     "output_type": "execute_result"
    }
   ],
   "source": [
    "all_events = pd.read_csv('all_events.csv') \n",
    "print(all_events.columns)\n",
    "nan_with_date_events = pd.read_csv('nan_with_date_events.csv')\n",
    "nan_events = pd.read_csv('nan_events.csv')\n",
    "nan_events = nan_events[nan_events[\"Date\"].notnull()]\n",
    "all_events = pd.concat([all_events, nan_with_date_events, nan_events], ignore_index=True)\n",
    "all_events.rename(columns={\"Title\":\"Subject\", \"Date\":\"Start Date\", \"Time\":\"Start Time\", \"Site\":\"Description\"}, inplace=True)\n",
    "all_events = all_events.reindex(columns=[\"Subject\", \"Start Date\", \"Start Time\", \"End Time\", \"Location\", \"Description\" ])\n",
    "all_events.describe()"
   ]
  },
  {
   "cell_type": "code",
   "execution_count": 4,
   "metadata": {},
   "outputs": [
    {
     "name": "stdout",
     "output_type": "stream",
     "text": [
      "Set 1 All: 11 Set 2 Extracted: 12 Intersection: 11\n",
      "{'https://www.arch.virginia.edu/events?search=&start=&end=&range=upcoming&events=&pageindex=0&pagesize=20'}\n"
     ]
    }
   ],
   "source": [
    "import os\n",
    "file_path = os.path.join(\"..\", \"sites.txt\")\n",
    "\n",
    "with open(file_path) as f:\n",
    "    lines = f.readlines()\n",
    "    lines = [line.rstrip() for line in lines]\n",
    "\n",
    "set1 = set(all_events[\"Description\"].unique())\n",
    "set2 = set(lines)\n",
    "intersection = set1.intersection(set2)\n",
    "print(f'Set 1 All: {len(set1)}', f'Set 2 Extracted: {len(set2)}', f'Intersection: {len(intersection)}')\n",
    "print(set2.difference(set1))\n"
   ]
  },
  {
   "cell_type": "code",
   "execution_count": 5,
   "metadata": {},
   "outputs": [],
   "source": [
    "all_events.to_csv('g_all_events.csv', index=False)"
   ]
  }
 ],
 "metadata": {
  "kernelspec": {
   "display_name": "Python 3",
   "language": "python",
   "name": "python3"
  },
  "language_info": {
   "codemirror_mode": {
    "name": "ipython",
    "version": 3
   },
   "file_extension": ".py",
   "mimetype": "text/x-python",
   "name": "python",
   "nbconvert_exporter": "python",
   "pygments_lexer": "ipython3",
   "version": "3.12.2"
  }
 },
 "nbformat": 4,
 "nbformat_minor": 2
}

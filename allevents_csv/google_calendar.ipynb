{
 "cells": [
  {
   "cell_type": "code",
   "execution_count": 1,
   "metadata": {},
   "outputs": [],
   "source": [
    "import pandas as pd"
   ]
  },
  {
   "cell_type": "code",
   "execution_count": 2,
   "metadata": {},
   "outputs": [
    {
     "name": "stdout",
     "output_type": "stream",
     "text": [
      "Index(['Title', 'Start Time', 'End Time', 'Date', 'Location', 'Department',\n",
      "       'Site', 'Event Topics', 'Event Sponsors'],\n",
      "      dtype='object')\n"
     ]
    },
    {
     "data": {
      "text/html": [
       "<div>\n",
       "<style scoped>\n",
       "    .dataframe tbody tr th:only-of-type {\n",
       "        vertical-align: middle;\n",
       "    }\n",
       "\n",
       "    .dataframe tbody tr th {\n",
       "        vertical-align: top;\n",
       "    }\n",
       "\n",
       "    .dataframe thead th {\n",
       "        text-align: right;\n",
       "    }\n",
       "</style>\n",
       "<table border=\"1\" class=\"dataframe\">\n",
       "  <thead>\n",
       "    <tr style=\"text-align: right;\">\n",
       "      <th></th>\n",
       "      <th>Subject</th>\n",
       "      <th>Start Date</th>\n",
       "      <th>Start Time</th>\n",
       "      <th>End Time</th>\n",
       "      <th>Location</th>\n",
       "      <th>Description</th>\n",
       "    </tr>\n",
       "  </thead>\n",
       "  <tbody>\n",
       "    <tr>\n",
       "      <th>count</th>\n",
       "      <td>87</td>\n",
       "      <td>88</td>\n",
       "      <td>58</td>\n",
       "      <td>58</td>\n",
       "      <td>56</td>\n",
       "      <td>88</td>\n",
       "    </tr>\n",
       "    <tr>\n",
       "      <th>unique</th>\n",
       "      <td>85</td>\n",
       "      <td>23</td>\n",
       "      <td>24</td>\n",
       "      <td>24</td>\n",
       "      <td>36</td>\n",
       "      <td>9</td>\n",
       "    </tr>\n",
       "    <tr>\n",
       "      <th>top</th>\n",
       "      <td>Putting Equity-Minded Policy Into Practice</td>\n",
       "      <td>2024-04-18</td>\n",
       "      <td>03:30 PM</td>\n",
       "      <td>05:00 PM</td>\n",
       "      <td>Monroe Hall, Room 120</td>\n",
       "      <td>University of Virginia</td>\n",
       "    </tr>\n",
       "    <tr>\n",
       "      <th>freq</th>\n",
       "      <td>2</td>\n",
       "      <td>21</td>\n",
       "      <td>7</td>\n",
       "      <td>7</td>\n",
       "      <td>10</td>\n",
       "      <td>26</td>\n",
       "    </tr>\n",
       "  </tbody>\n",
       "</table>\n",
       "</div>"
      ],
      "text/plain": [
       "                                           Subject  Start Date Start Time  \\\n",
       "count                                           87          88         58   \n",
       "unique                                          85          23         24   \n",
       "top     Putting Equity-Minded Policy Into Practice  2024-04-18   03:30 PM   \n",
       "freq                                             2          21          7   \n",
       "\n",
       "        End Time               Location             Description  \n",
       "count         58                     56                      88  \n",
       "unique        24                     36                       9  \n",
       "top     05:00 PM  Monroe Hall, Room 120  University of Virginia  \n",
       "freq           7                     10                      26  "
      ]
     },
     "execution_count": 2,
     "metadata": {},
     "output_type": "execute_result"
    }
   ],
   "source": [
    "all_events = pd.read_csv('all_events.csv') \n",
    "print(all_events.columns)\n",
    "nan_with_date_events = pd.read_csv('nan_with_date_events.csv')\n",
    "nan_events = pd.read_csv('nan_events.csv')\n",
    "nan_events = nan_events[nan_events[\"Date\"].notnull()]\n",
    "all_events = pd.concat([all_events, nan_with_date_events, nan_events], ignore_index=True)\n",
    "all_events.rename(columns={\"Title\":\"Subject\", \"Date\":\"Start Date\", \"Time\":\"Start Time\", \"Department\":\"Description\"}, inplace=True)\n",
    "all_events = all_events.reindex(columns=[\"Subject\", \"Start Date\", \"Start Time\", \"End Time\", \"Location\", \"Description\" ])\n",
    "all_events.describe()"
   ]
  },
  {
   "cell_type": "code",
   "execution_count": 3,
   "metadata": {},
   "outputs": [],
   "source": [
    "all_events.to_csv('g_all_events.csv', index=False)"
   ]
  }
 ],
 "metadata": {
  "kernelspec": {
   "display_name": "Python 3",
   "language": "python",
   "name": "python3"
  },
  "language_info": {
   "codemirror_mode": {
    "name": "ipython",
    "version": 3
   },
   "file_extension": ".py",
   "mimetype": "text/x-python",
   "name": "python",
   "nbconvert_exporter": "python",
   "pygments_lexer": "ipython3",
   "version": "3.11.3"
  }
 },
 "nbformat": 4,
 "nbformat_minor": 2
}

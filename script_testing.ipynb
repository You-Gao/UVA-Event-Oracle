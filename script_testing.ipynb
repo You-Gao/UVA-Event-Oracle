{
 "cells": [
  {
   "cell_type": "code",
   "execution_count": 10,
   "metadata": {},
   "outputs": [
    {
     "ename": "ModuleNotFoundError",
     "evalue": "No module named 'google.generativeai'",
     "output_type": "error",
     "traceback": [
      "\u001b[1;31m---------------------------------------------------------------------------\u001b[0m",
      "\u001b[1;31mModuleNotFoundError\u001b[0m                       Traceback (most recent call last)",
      "Cell \u001b[1;32mIn[10], line 2\u001b[0m\n\u001b[0;32m      1\u001b[0m \u001b[38;5;28;01mimport\u001b[39;00m \u001b[38;5;21;01mos\u001b[39;00m \n\u001b[1;32m----> 2\u001b[0m \u001b[38;5;28;01mimport\u001b[39;00m \u001b[38;5;21;01mgoogle\u001b[39;00m\u001b[38;5;21;01m.\u001b[39;00m\u001b[38;5;21;01mgenerativeai\u001b[39;00m \u001b[38;5;28;01mas\u001b[39;00m \u001b[38;5;21;01mgenai\u001b[39;00m\n\u001b[0;32m      3\u001b[0m \u001b[38;5;28;01mimport\u001b[39;00m \u001b[38;5;21;01mpathlib\u001b[39;00m\n\u001b[0;32m      4\u001b[0m \u001b[38;5;28;01mimport\u001b[39;00m \u001b[38;5;21;01mtextwrap\u001b[39;00m\n",
      "\u001b[1;31mModuleNotFoundError\u001b[0m: No module named 'google.generativeai'"
     ]
    }
   ],
   "source": [
    "import os \n",
    "import google.generativeai as genai\n",
    "import pathlib\n",
    "import textwrap\n",
    "from IPython.display import Markdown\n",
    "\n",
    "GOOGLE_API_KEY = os.environ.get('GOOGLE_API_KEY')\n",
    "genai.configure(api_key=GOOGLE_API_KEY)\n",
    "\n",
    "def to_markdown(text):\n",
    "  text = text.replace('•', '  *')\n",
    "  return Markdown(textwrap.indent(text, '> ', predicate=lambda _: True))\n"
   ]
  },
  {
   "cell_type": "code",
   "execution_count": 11,
   "metadata": {},
   "outputs": [],
   "source": [
    "with open ('sites.txt') as f:\n",
    "    lines = f.readlines()\n",
    "    lines = [line.rstrip() for line in lines]\n",
    "f.close()"
   ]
  },
  {
   "cell_type": "code",
   "execution_count": 12,
   "metadata": {},
   "outputs": [],
   "source": [
    "# manual div class keywords\n",
    "keywords = [\"event\", \"content\", \"detail\", \"card\", \"views\",\"location\",\"time\", \"date\", \"notes\", \"evt\"]\n",
    "\n",
    "import datetime\n",
    "\n",
    "# previous 10 years\n",
    "years = [str(i) for i in range(2010, datetime.datetime.now().year)]\n",
    "\n",
    "# all monnth in title case\n",
    "old_months = [\"January\", \"February\", \"March\", \"April\", \"May\", \"June\", \"July\", \"August\", \"September\", \"October\", \"November\", \"December\"]\n",
    "index_of_month = old_months.index(datetime.datetime.now().strftime(\"%B\"))\n",
    "old_months = old_months[:index_of_month]\n",
    "\n",
    "# list of sites needing selenium scraping\n",
    "js_sites = {4:\"s-lc-mc-evt\",9:\"spud913f6613-59b3-4547-ba85-97693a7c9dbb.iframe\",1:\"trumba.spud.5.iframe\"}"
   ]
  },
  {
   "cell_type": "markdown",
   "metadata": {},
   "source": [
    "### Main Functions\n"
   ]
  },
  {
   "cell_type": "code",
   "execution_count": 13,
   "metadata": {},
   "outputs": [],
   "source": [
    "# Custom HTML Parsing as solution vs. LLM Text Extraction w/ HTML Filtering\n",
    "import bs4\n",
    "import requests\n",
    "import time\n",
    "from selenium import webdriver\n",
    "from selenium.webdriver.common.by import By\n",
    "from selenium.webdriver.support.ui import WebDriverWait\n",
    "from selenium.webdriver.support import expected_conditions as EC\n",
    "\n",
    "\"\"\"\n",
    "1. Retrieve HTML from a site\n",
    "1.1 Retrieve HTML from a site using Selenium\n",
    "2. Extract event text from HTML\n",
    "2.5 Preprocess Event Text\n",
    "3. Store event text in a file\n",
    "4. Convert to JSON or CSV via LLM\n",
    "5. Store in a database\n",
    "\n",
    "\"\"\"\n",
    "\n",
    "# 1 - Retrieve HTML from a site\n",
    "def get_html(site):\n",
    "    response = requests.get(site)\n",
    "    if response is None:\n",
    "        print('Failed to retrieve html from site')\n",
    "        return None\n",
    "    return response.text\n",
    "\n",
    "# 1.1 - Retrieve HTML from a site using Selenium\n",
    "def get_html_selenium(site, id, site_dict):\n",
    "    driver = webdriver.Chrome()\n",
    "    driver.get(site)\n",
    "    element = None\n",
    "    target_element = site_dict[id]\n",
    "    \n",
    "    if \".iframe\" in target_element:\n",
    "        element = WebDriverWait(driver, 30).until(\n",
    "            EC.presence_of_element_located((By.ID, target_element))\n",
    "        )\n",
    "        driver.switch_to.frame(target_element)\n",
    "        print(\"Found IFRAME\")\n",
    "        time.sleep(5)\n",
    "    else:\n",
    "        element = WebDriverWait(driver, 30).until(\n",
    "            EC.presence_of_element_located((By.CLASS_NAME, target_element))\n",
    "        )\n",
    "\n",
    "    html = driver.page_source\n",
    "    driver.quit()\n",
    "    return html\n",
    "\n",
    "# --------------------------------------------------------------------------------------------\n",
    "\n",
    "# 2 - Extract event text from HTML\n",
    "def extract_event_text(soup):\n",
    "    all_divs = soup.find_all('div')\n",
    "    lowercase_all_divs_classes(all_divs)\n",
    "    event_divs = filter_event_divs(all_divs)\n",
    "    event_text = extract_text_from_event_divs(event_divs)\n",
    "    return event_text\n",
    "\n",
    "# 2.5 - Preprocess Event Text\n",
    "def lowercase_all_divs_classes(divs):\n",
    "    for div in divs:\n",
    "        if div.has_attr('class'):\n",
    "            div['class'] = [x.lower() for x in div['class']]\n",
    "\n",
    "def filter_event_divs(all_divs):\n",
    "    event_divs = []\n",
    "    for div in all_divs:\n",
    "        if div.get('class') is not None and any(keyword in div.get('class')[0] for keyword in keywords):\n",
    "            event_divs.append(div)\n",
    "    return event_divs\n",
    "\n",
    "def extract_text_from_event_divs(event_divs):\n",
    "    event_text = []\n",
    "    for div in event_divs:\n",
    "        text = div.get_text()\n",
    "        text = [x for x in text.split('\\n') if x != '']\n",
    "        for line in text:\n",
    "            if is_old_event(line):\n",
    "                continue\n",
    "            while '\\n' in line:\n",
    "                line = line.replace('\\n', ' ')\n",
    "            event_text.append(line + '\\n')\n",
    "    return event_text\n",
    "\n",
    "def is_old_event(line):\n",
    "    if any(year in line for year in years):\n",
    "        return True\n",
    "    elif any(month in line for month in old_months):\n",
    "        return True\n",
    "    return False\n",
    "\n",
    "def remove_duplicates(event_text):\n",
    "    return list(set(event_text))\n",
    "\n",
    "# --------------------------------------------------------------------------------------------\n",
    "\n",
    "\n",
    "# 3 - Store event text in a file\n",
    "def write_event_text(event_text, filename):\n",
    "    event_text = [x.encode('ascii', 'ignore').decode('ascii') for x in event_text]\n",
    "    folder = \"extracted_txt\"\n",
    "    file_path = folder + \"/\" + filename\n",
    "    with open(file_path, 'w') as f:\n",
    "        for event in event_text:\n",
    "            if len(event) > 0 or event != ' ':\n",
    "                f.write(event)\n",
    "    f.close()\n",
    "    return 0\n",
    "\n",
    "# --------------------------------------------------------------------------------------------\n",
    "\n",
    "# 4 - Convert to JSON or CSV via LLM\n",
    "def convert_to_json(site_index):\n",
    "    input_text = \"\"\" \n",
    "    Convert this text to JSON for events with this schema:\n",
    "    Only store the objects in a JSON array. Each object should have the following fields for an\n",
    "    Event:\n",
    "    - Title: The name of the event (String)\n",
    "    - Start Time: (DateTime)\n",
    "    - End Time: (DateTime)\n",
    "    - Date: (Month, Day) of the event (DateTime)\n",
    "    - Location: Where the event takes place (String)\n",
    "    - Guest Speaker: The person or organization responsible for the event (String)\n",
    "    Do not add '''JSON''' to the start or end of the file.\n",
    "    \"\"\"\n",
    "    filename = f'site_{site_index}.txt'\n",
    "    with open(f'extracted_txt/{filename}') as f:\n",
    "        site_text = f.read()\n",
    "    input_text += site_text\n",
    "\n",
    "    model = genai.GenerativeModel('gemini-pro')\n",
    "    response = model.generate_content(input_text)\n",
    "\n",
    "    with open(f'event_jsons/site_{site_index}.json', 'w') as f:\n",
    "        f.write(response.text)\n",
    "    f.close()\n",
    "    \n",
    "    return 0\n",
    "\n",
    "# --------------------------------------------------------------------------------------------\n",
    "\n",
    "# 5 - Read JSON and store in a database\n",
    "def read_json(site_index):\n",
    "    with open(f'event_jsons/site_{site_index}.json') as f:\n",
    "        event_json = f.read()\n",
    "    f.close()\n",
    "    return event_json\n",
    "\n",
    "# --------------------------------------------------------------------------------------------\n",
    "\n",
    "\n",
    "def single_site(site):\n",
    "    html = get_html_selenium(site)\n",
    "    print(html)\n",
    "    soup = bs4.BeautifulSoup(html, 'html.parser')\n",
    "    event_text = extract_event_text(soup)\n",
    "    write_event_text(event_text, 'site.txt')    \n",
    "    print(len(event_text))\n",
    "    print(event_text)\n",
    "    return 0\n",
    "\n",
    "def process_sites():\n",
    "    for i, site in enumerate(lines):\n",
    "        print(f\"Processing site {site}\")\n",
    "\n",
    "        if i in js_sites:\n",
    "            html = get_html_selenium(site)\n",
    "        else:\n",
    "            html = get_html(site)\n",
    "\n",
    "        soup = bs4.BeautifulSoup(html, 'html.parser')\n",
    "        event_text = extract_event_text(soup)\n",
    "        write_event_text(event_text, f'site_{i}.txt')\n",
    "        convert_to_json(i)\n",
    "\n",
    "        print(f\"Finished processing site {i}\")\n",
    "        # gemini pro free can only process 2 requests per minute\n",
    "        time.sleep(30)\n",
    "    return 0"
   ]
  },
  {
   "cell_type": "code",
   "execution_count": 5,
   "metadata": {},
   "outputs": [
    {
     "name": "stdout",
     "output_type": "stream",
     "text": [
      "Processing site https://scholarslab.lib.virginia.edu/events/\n",
      "Finished processing site 0\n",
      "Processing site https://www.virginia.edu/calendar\n",
      "Virginia\n",
      "Found IFRAME\n",
      "Finished processing site 1\n",
      "Processing site https://education.virginia.edu/events\n",
      "Finished processing site 2\n",
      "Processing site https://global.virginia.edu/events\n",
      "Finished processing site 3\n",
      "Processing site https://cal.lib.virginia.edu/calendar/events?cid=4299&t=m&d=0000-00-00&cal=4299&ct=69160,33395,66337,31015,30813,51597,58853,58854,58855,58856,70846,45972,31362,27888,30045,27381,57994,54907,26930,29624,56703,66253,66255,66338,46136,70848,33496,70427,27725,29618,63738,28898,33396,38996,50481,70849,51598,29985&inc=0\n",
      "Finished processing site 4\n",
      "Processing site https://engineering.virginia.edu/news-events/events\n",
      "Finished processing site 5\n",
      "Processing site https://commcal.mcintire.virginia.edu/\n",
      "Finished processing site 6\n",
      "Processing site https://www.arch.virginia.edu/events?search=&start=&end=&range=upcoming&events=&pageindex=1&pagesize=12\n",
      "Finished processing site 7\n",
      "Processing site https://news.med.virginia.edu/\n",
      "Finished processing site 8\n",
      "Processing site https://events.batten.virginia.edu/\n",
      "Batten\n",
      "Found IFRAME\n",
      "Finished processing site 9\n",
      "Processing site https://economics.virginia.edu/calendar/month?date=2024-04\n",
      "Finished processing site 10\n",
      "Processing site https://career.virginia.edu/Employers\n",
      "Finished processing site 11\n"
     ]
    },
    {
     "data": {
      "text/plain": [
       "0"
      ]
     },
     "execution_count": 5,
     "metadata": {},
     "output_type": "execute_result"
    }
   ],
   "source": [
    "process_sites()"
   ]
  },
  {
   "cell_type": "markdown",
   "metadata": {},
   "source": [
    "### Json Playground"
   ]
  },
  {
   "cell_type": "code",
   "execution_count": 17,
   "metadata": {},
   "outputs": [],
   "source": [
    "import json\n",
    "import pandas as pd"
   ]
  },
  {
   "cell_type": "code",
   "execution_count": 14,
   "metadata": {},
   "outputs": [
    {
     "name": "stdout",
     "output_type": "stream",
     "text": [
      "site_0.json\n",
      "-----------------------------------\n",
      "site_1.json\n",
      "-----------------------------------\n",
      "site_10.json\n",
      "-----------------------------------\n",
      "site_11.json\n",
      "-----------------------------------\n",
      "site_2.json\n",
      "-----------------------------------\n",
      "site_3.json\n",
      "-----------------------------------\n",
      "site_4.json\n",
      "-----------------------------------\n",
      "site_5.json\n",
      "-----------------------------------\n",
      "site_6.json\n",
      "-----------------------------------\n",
      "site_7.json\n",
      "-----------------------------------\n",
      "site_8.json\n",
      "-----------------------------------\n",
      "site_9.json\n",
      "-----------------------------------\n"
     ]
    }
   ],
   "source": [
    "all_events = []\n",
    "for file in os.listdir('event_jsons'):\n",
    "    print(file)\n",
    "    with open(f'event_jsons/{file}') as f:\n",
    "        text = json.load(f)\n",
    "    f.close()\n",
    "    for event in text:\n",
    "        all_events.append(event)\n",
    "    print('-----------------------------------')"
   ]
  },
  {
   "cell_type": "code",
   "execution_count": 18,
   "metadata": {},
   "outputs": [],
   "source": [
    "all_events_df = pd.DataFrame(all_events)"
   ]
  },
  {
   "cell_type": "code",
   "execution_count": 22,
   "metadata": {},
   "outputs": [
    {
     "data": {
      "text/html": [
       "<div>\n",
       "<style scoped>\n",
       "    .dataframe tbody tr th:only-of-type {\n",
       "        vertical-align: middle;\n",
       "    }\n",
       "\n",
       "    .dataframe tbody tr th {\n",
       "        vertical-align: top;\n",
       "    }\n",
       "\n",
       "    .dataframe thead th {\n",
       "        text-align: right;\n",
       "    }\n",
       "</style>\n",
       "<table border=\"1\" class=\"dataframe\">\n",
       "  <thead>\n",
       "    <tr style=\"text-align: right;\">\n",
       "      <th></th>\n",
       "      <th>Title</th>\n",
       "      <th>Start Time</th>\n",
       "      <th>End Time</th>\n",
       "      <th>Date</th>\n",
       "      <th>Location</th>\n",
       "      <th>Guest Speaker</th>\n",
       "    </tr>\n",
       "  </thead>\n",
       "  <tbody>\n",
       "    <tr>\n",
       "      <th>count</th>\n",
       "      <td>125</td>\n",
       "      <td>84</td>\n",
       "      <td>63</td>\n",
       "      <td>104</td>\n",
       "      <td>79</td>\n",
       "      <td>49</td>\n",
       "    </tr>\n",
       "    <tr>\n",
       "      <th>unique</th>\n",
       "      <td>112</td>\n",
       "      <td>45</td>\n",
       "      <td>37</td>\n",
       "      <td>51</td>\n",
       "      <td>43</td>\n",
       "      <td>47</td>\n",
       "    </tr>\n",
       "    <tr>\n",
       "      <th>top</th>\n",
       "      <td>Make a leather book cover</td>\n",
       "      <td>3:30</td>\n",
       "      <td>5:00</td>\n",
       "      <td>April 11, 2024</td>\n",
       "      <td>Monroe Hall, Room 120</td>\n",
       "      <td>Julie K. Silver, MD</td>\n",
       "    </tr>\n",
       "    <tr>\n",
       "      <th>freq</th>\n",
       "      <td>3</td>\n",
       "      <td>14</td>\n",
       "      <td>14</td>\n",
       "      <td>9</td>\n",
       "      <td>19</td>\n",
       "      <td>3</td>\n",
       "    </tr>\n",
       "  </tbody>\n",
       "</table>\n",
       "</div>"
      ],
      "text/plain": [
       "                            Title Start Time End Time            Date  \\\n",
       "count                         125         84       63             104   \n",
       "unique                        112         45       37              51   \n",
       "top     Make a leather book cover       3:30     5:00  April 11, 2024   \n",
       "freq                            3         14       14               9   \n",
       "\n",
       "                     Location        Guest Speaker  \n",
       "count                      79                   49  \n",
       "unique                     43                   47  \n",
       "top     Monroe Hall, Room 120  Julie K. Silver, MD  \n",
       "freq                       19                    3  "
      ]
     },
     "execution_count": 22,
     "metadata": {},
     "output_type": "execute_result"
    }
   ],
   "source": [
    "all_events_df.describe()"
   ]
  },
  {
   "cell_type": "code",
   "execution_count": 23,
   "metadata": {},
   "outputs": [
    {
     "data": {
      "text/plain": [
       "Title             0\n",
       "Start Time       41\n",
       "End Time         62\n",
       "Date             21\n",
       "Location         46\n",
       "Guest Speaker    76\n",
       "dtype: int64"
      ]
     },
     "execution_count": 23,
     "metadata": {},
     "output_type": "execute_result"
    }
   ],
   "source": [
    "# sum isna\n",
    "all_events_df.isna().sum()"
   ]
  },
  {
   "cell_type": "markdown",
   "metadata": {},
   "source": [
    "### LLM Playground"
   ]
  },
  {
   "cell_type": "code",
   "execution_count": null,
   "metadata": {},
   "outputs": [
    {
     "data": {
      "text/markdown": [
       "> ```JSON\n",
       "> [\n",
       ">   {\n",
       ">     \"Title\": \"Graduate Writing Cafe\",\n",
       ">     \"Start Time\": \"12:00 PM\",\n",
       ">     \"End Time\": \"3:00 PM\",\n",
       ">     \"Date\": \"09 April\",\n",
       ">     \"Location\": \"Holloway Hall, Bavaro\",\n",
       ">     \"Guest Speaker\": null\n",
       ">   },\n",
       ">   {\n",
       ">     \"Title\": \"Introduction to Graduate Study at the UVA School of Education and Human Development\",\n",
       ">     \"Start Time\": \"4:00 PM\",\n",
       ">     \"End Time\": \"5:00 PM\",\n",
       ">     \"Date\": \"11 April\",\n",
       ">     \"Location\": \"Virtual\",\n",
       ">     \"Guest Speaker\": null\n",
       ">   },\n",
       ">   {\n",
       ">     \"Title\": \"UVA Communication Science and Disorders Accreditation Public Meeting\",\n",
       ">     \"Start Time\": \"4:30 PM\",\n",
       ">     \"End Time\": \"6:00 PM\",\n",
       ">     \"Date\": \"17 April\",\n",
       ">     \"Location\": \"Room 318A, Bavaro Hall\",\n",
       ">     \"Guest Speaker\": null\n",
       ">   },\n",
       ">   {\n",
       ">     \"Title\": \"Wheelchair Takeover: Paralympic Pick-up\",\n",
       ">     \"Start Time\": \"3:00 PM\",\n",
       ">     \"End Time\": \"6:00 PM\",\n",
       ">     \"Date\": \"19 April\",\n",
       ">     \"Location\": \"Memorial Gym Outdoor Courts\",\n",
       ">     \"Guest Speaker\": null\n",
       ">   },\n",
       ">   {\n",
       ">     \"Title\": \"EHD Black Alumni Weekend Events: Honoring the Past, Advancing in the Future\",\n",
       ">     \"Start Time\": \"3:30 PM\",\n",
       ">     \"End Time\": \"5:30 PM\",\n",
       ">     \"Date\": \"19 April\",\n",
       ">     \"Location\": \"Holloway Hall, Bavaro\",\n",
       ">     \"Guest Speaker\": null\n",
       ">   },\n",
       ">   {\n",
       ">     \"Title\": \"M.Ed. in Administration & Supervision Information Session\",\n",
       ">     \"Start Time\": \"4:00 PM\",\n",
       ">     \"End Time\": \"5:00 PM\",\n",
       ">     \"Date\": \"22 April\",\n",
       ">     \"Location\": \"Virtual\",\n",
       ">     \"Guest Speaker\": null\n",
       ">   },\n",
       ">   {\n",
       ">     \"Title\": \"M.Ed. in Administration & Supervision Information Session\",\n",
       ">     \"Start Time\": \"6:00 PM\",\n",
       ">     \"End Time\": \"7:00 PM\",\n",
       ">     \"Date\": \"23 April\",\n",
       ">     \"Location\": \"Virtual\",\n",
       ">     \"Guest Speaker\": null\n",
       ">   },\n",
       ">   {\n",
       ">     \"Title\": \"How to Become a Teacher Information Session April 2024\",\n",
       ">     \"Start Time\": \"7:00 PM\",\n",
       ">     \"End Time\": \"8:00 PM\",\n",
       ">     \"Date\": \"23 April\",\n",
       ">     \"Location\": \"Virtual\",\n",
       ">     \"Guest Speaker\": null\n",
       ">   },\n",
       ">   {\n",
       ">     \"Title\": \"EHD Yoga\",\n",
       ">     \"Start Time\": \"9:00 AM\",\n",
       ">     \"End Time\": \"10:00 AM\",\n",
       ">     \"Date\": \"29 April\",\n",
       ">     \"Location\": \"Holloway/Bavaro atrium\",\n",
       ">     \"Guest Speaker\": null\n",
       ">   },\n",
       ">   {\n",
       ">     \"Title\": \"Ice Cream Social\",\n",
       ">     \"Start Time\": \"12:00 PM\",\n",
       ">     \"End Time\": \"2:00 PM\",\n",
       ">     \"Date\": \"30 April\",\n",
       ">     \"Location\": \"Bavaro Atrium/Courtyard\",\n",
       ">     \"Guest Speaker\": null\n",
       ">   }\n",
       "> ]\n",
       "> ```"
      ],
      "text/plain": [
       "<IPython.core.display.Markdown object>"
      ]
     },
     "execution_count": 6,
     "metadata": {},
     "output_type": "execute_result"
    }
   ],
   "source": [
    "to_markdown(response.text)\n"
   ]
  },
  {
   "cell_type": "markdown",
   "metadata": {},
   "source": [
    "### Test Functions"
   ]
  },
  {
   "cell_type": "code",
   "execution_count": 18,
   "metadata": {},
   "outputs": [
    {
     "name": "stderr",
     "output_type": "stream",
     "text": [
      "."
     ]
    },
    {
     "name": "stdout",
     "output_type": "stream",
     "text": [
      "Found IFRAME\n"
     ]
    },
    {
     "name": "stderr",
     "output_type": "stream",
     "text": [
      "....\n",
      "----------------------------------------------------------------------\n",
      "Ran 5 tests in 16.034s\n",
      "\n",
      "OK\n"
     ]
    },
    {
     "data": {
      "text/plain": [
       "<unittest.main.TestProgram at 0x12382fba110>"
      ]
     },
     "execution_count": 18,
     "metadata": {},
     "output_type": "execute_result"
    }
   ],
   "source": [
    "import unittest\n",
    "\n",
    "class TestEventExtraction(unittest.TestCase):\n",
    "    def setUp(self):\n",
    "        self.html = \"\"\"\n",
    "        <html>\n",
    "            <body>\n",
    "                <div class=\"event\">Event 1</div>\n",
    "                <div class=\"content\">Content 1</div>\n",
    "                <div class=\"detail\">Detail 1</div>\n",
    "                <div class=\"card\">Card\n",
    "                <div class=\"views\">Views 1</div>\n",
    "                <div class=\"location\">Location 1</div>\n",
    "        </html>\n",
    "        \"\"\"\n",
    "        self.soup = bs4.BeautifulSoup(self.html, 'html.parser')\n",
    "        self.all_divs = self.soup.find_all('div')\n",
    "    \n",
    "    def test_lowercase_all_divs_classes(self):\n",
    "        lowercase_all_divs_classes(self.all_divs)\n",
    "        for div in self.all_divs:\n",
    "            if div.has_attr('class'):\n",
    "                self.assertTrue(all(x.islower() for x in div['class']))\n",
    "    \n",
    "    def test_filter_event_divs(self):\n",
    "        event_divs = filter_event_divs(self.all_divs)\n",
    "        self.assertTrue(all(any(keyword in div.get('class')[0] for keyword in keywords) for div in event_divs))\n",
    "    \n",
    "    def test_is_old_event(self):\n",
    "        old_event = \"Event from 2010\"\n",
    "        self.assertTrue(is_old_event(old_event))\n",
    "                \n",
    "    def test_extract_html(self):\n",
    "        site = 'https://www.google.com'\n",
    "        html = get_html(site)\n",
    "        self.assertIsNotNone(html)\n",
    "        \n",
    "    def test_extract_selenium_html(self):\n",
    "        site = 'https://www.virginia.edu/calendar'\n",
    "        id = 1\n",
    "        site_dict = {4:\"s-lc-mc-evt\",9:\"spud913f6613-59b3-4547-ba85-97693a7c9dbb.iframe\",1:\"trumba.spud.5.iframe\"}\n",
    "        html = get_html_selenium(site, id, site_dict)\n",
    "        self.assertIsNotNone(html)\n",
    "                \n",
    "    \n",
    "    \n",
    "unittest.main(argv=[''], exit=False)"
   ]
  },
  {
   "cell_type": "code",
   "execution_count": null,
   "metadata": {},
   "outputs": [],
   "source": [
    "def test_parsings(sites):\n",
    "    for id, site in enumerate(sites):\n",
    "        if id == 1 or id == 4 or id == 9:\n",
    "            print(site)\n",
    "            html = get_html_selenium(site)\n",
    "        else:\n",
    "            html = get_html(site)\n",
    "        if html is not None:\n",
    "            soup = bs4.BeautifulSoup(html, 'html.parser')\n",
    "            event_text = extract_event_text(soup)\n",
    "            print(len(event_text), site)\n",
    "    return 0 "
   ]
  },
  {
   "cell_type": "code",
   "execution_count": null,
   "metadata": {},
   "outputs": [
    {
     "name": "stdout",
     "output_type": "stream",
     "text": [
      "84 https://scholarslab.lib.virginia.edu/events/\n",
      "https://www.virginia.edu/calendar\n",
      "Virginia\n",
      "Found IFRAME\n",
      "33 https://www.virginia.edu/calendar\n",
      "595 https://education.virginia.edu/events\n",
      "88 https://global.virginia.edu/events\n",
      "https://cal.lib.virginia.edu/calendar/events?cid=4299&t=m&d=0000-00-00&cal=4299&ct=69160,33395,66337,31015,30813,51597,58853,58854,58855,58856,70846,45972,31362,27888,30045,27381,57994,54907,26930,29624,56703,66253,66255,66338,46136,70848,33496,70427,27725,29618,63738,28898,33396,38996,50481,70849,51598,29985&inc=0\n",
      "57 https://cal.lib.virginia.edu/calendar/events?cid=4299&t=m&d=0000-00-00&cal=4299&ct=69160,33395,66337,31015,30813,51597,58853,58854,58855,58856,70846,45972,31362,27888,30045,27381,57994,54907,26930,29624,56703,66253,66255,66338,46136,70848,33496,70427,27725,29618,63738,28898,33396,38996,50481,70849,51598,29985&inc=0\n",
      "1152 https://engineering.virginia.edu/news-events/events\n",
      "24 https://commcal.mcintire.virginia.edu/\n",
      "22 https://www.arch.virginia.edu/events?search=&start=&end=&range=upcoming&events=&pageindex=1&pagesize=12\n",
      "135 https://news.med.virginia.edu/\n",
      "https://events.batten.virginia.edu/\n",
      "Batten\n",
      "Found IFRAME\n",
      "19 https://events.batten.virginia.edu/\n",
      "986 https://economics.virginia.edu/calendar/month?date=2024-04\n",
      "436 https://career.virginia.edu/Employers\n"
     ]
    },
    {
     "data": {
      "text/plain": [
       "0"
      ]
     },
     "execution_count": 77,
     "metadata": {},
     "output_type": "execute_result"
    }
   ],
   "source": [
    "test_parsings(lines)"
   ]
  }
 ],
 "metadata": {
  "kernelspec": {
   "display_name": "Python 3",
   "language": "python",
   "name": "python3"
  },
  "language_info": {
   "codemirror_mode": {
    "name": "ipython",
    "version": 3
   },
   "file_extension": ".py",
   "mimetype": "text/x-python",
   "name": "python",
   "nbconvert_exporter": "python",
   "pygments_lexer": "ipython3",
   "version": "3.11.3"
  }
 },
 "nbformat": 4,
 "nbformat_minor": 2
}

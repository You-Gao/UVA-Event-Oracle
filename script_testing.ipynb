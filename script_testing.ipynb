{
 "cells": [
  {
   "cell_type": "code",
   "execution_count": 7,
   "metadata": {},
   "outputs": [],
   "source": [
    "import requests\n",
    "import os \n",
    "import datetime\n",
    "\n",
    "import vertexai\n",
    "from vertexai.generative_models import GenerativeModel, ChatSession\n",
    "\n",
    "project_id = \"fourth-webbing-420020\"\n",
    "location = \"us-central1\"\n",
    "vertexai.init(project=project_id, location=location)\n",
    "model = GenerativeModel(\"gemini-1.0-pro\")\n",
    "\n",
    "def get_chat_response(chat: ChatSession, prompt: str) -> str:\n",
    "    text_response = []\n",
    "    responses = chat.send_message(prompt, stream=True)\n",
    "    for chunk in responses:\n",
    "        text_response.append(chunk.text)\n",
    "    return \"\".join(text_response)"
   ]
  },
  {
   "cell_type": "code",
   "execution_count": 5,
   "metadata": {},
   "outputs": [],
   "source": [
    "with open ('sites.txt') as f:\n",
    "    lines = f.readlines()\n",
    "    lines = [line.rstrip() for line in lines]\n",
    "f.close()"
   ]
  },
  {
   "cell_type": "code",
   "execution_count": 6,
   "metadata": {},
   "outputs": [],
   "source": [
    "# manual div class keywords\n",
    "keywords = [\"event\", \"content\", \"detail\", \"card\", \"views\",\"location\",\"time\", \"date\", \"notes\", \"evt\"]\n",
    "\n",
    "# previous 10 years\n",
    "years = [str(i) for i in range(2010, datetime.datetime.now().year)]\n",
    "\n",
    "# all monnth in title case\n",
    "old_months = [\"January\", \"February\", \"March\", \"April\", \"May\", \"June\", \"July\", \"August\", \"September\", \"October\", \"November\", \"December\"]\n",
    "index_of_month = old_months.index(datetime.datetime.now().strftime(\"%B\"))\n",
    "old_months = old_months[:index_of_month]\n",
    "\n",
    "# list of sites needing selenium scraping\n",
    "js_sites = {6:\"EventCard_event__kHN5V\",7:\"card__detail\",4:\"s-lc-mc-evt\",9:\"spud913f6613-59b3-4547-ba85-97693a7c9dbb.iframe\",1:\"trumba.spud.5.iframe\"}"
   ]
  },
  {
   "cell_type": "markdown",
   "metadata": {},
   "source": [
    "### Main Functions\n"
   ]
  },
  {
   "cell_type": "code",
   "execution_count": 5,
   "metadata": {},
   "outputs": [],
   "source": [
    "# Custom HTML Parsing as solution vs. LLM Text Extraction w/ HTML Filtering\n",
    "import bs4\n",
    "import requests\n",
    "import time\n",
    "from selenium import webdriver\n",
    "from selenium.webdriver.common.by import By\n",
    "from selenium.webdriver.support.ui import WebDriverWait\n",
    "from selenium.webdriver.support import expected_conditions as EC\n",
    "\n",
    "\"\"\"\n",
    "1. Retrieve HTML from a site\n",
    "1.1 Retrieve HTML from a site using Selenium\n",
    "2. Extract event text from HTML\n",
    "2.5 Preprocess Event Text\n",
    "3. Store event text in a file\n",
    "4. Convert to JSON or CSV via LLM\n",
    "5. Store in a database\n",
    "\n",
    "\"\"\"\n",
    "\n",
    "# 1 - Retrieve HTML from a site\n",
    "def get_html(site):\n",
    "    response = requests.get(site)\n",
    "    if response is None:\n",
    "        print('Failed to retrieve html from site')\n",
    "        return None\n",
    "    return response.text\n",
    "\n",
    "# 1.1 - Retrieve HTML from a site using Selenium\n",
    "def get_html_selenium(site, id, site_dict):\n",
    "    driver = webdriver.Chrome()\n",
    "    driver.get(site)\n",
    "    time.sleep(2)\n",
    "    element = None\n",
    "    target_element = site_dict[id]\n",
    "    \n",
    "    button_element = \"//a[text()='WEEK' and @role='button']\"\n",
    "    iframes = driver.find_elements(\"id\",'trumba.spud.3.iframe')\n",
    "    button_iframe = \"trumba.spud.3.iframe\"\n",
    "    \n",
    "    if len(iframes) > 0:\n",
    "        element = WebDriverWait(driver, 30).until(\n",
    "            EC.presence_of_element_located((By.ID, button_iframe)))\n",
    "        print(\"Found IFRAME\")\n",
    "        driver.switch_to.frame(button_iframe)\n",
    "        element = WebDriverWait(driver, 30).until(\n",
    "            EC.presence_of_element_located((By.XPATH, button_element)))\n",
    "        print(\"Found Button\")\n",
    "        element.click()\n",
    "        time.sleep(2)\n",
    "        driver.switch_to.default_content()\n",
    "    \n",
    "    if \".iframe\" in target_element:\n",
    "        element = WebDriverWait(driver, 30).until(\n",
    "            EC.presence_of_element_located((By.ID, target_element))\n",
    "        )\n",
    "        driver.switch_to.frame(target_element)\n",
    "        print(\"Found IFRAME\")\n",
    "        time.sleep(5)\n",
    "        \n",
    "    else:\n",
    "        element = WebDriverWait(driver, 30).until(\n",
    "            EC.presence_of_element_located((By.CLASS_NAME, target_element))\n",
    "        )\n",
    "\n",
    "    html = driver.page_source\n",
    "    driver.quit()\n",
    "    return html\n",
    "\n",
    "# --------------------------------------------------------------------------------------------\n",
    "\n",
    "# 2 - Extract event text from HTML\n",
    "def extract_event_text(soup):\n",
    "    all_divs = soup.find_all('div')\n",
    "    lowercase_all_divs_classes(all_divs)\n",
    "    # event_divs = filter_event_divs(all_divs)\n",
    "    # event_divs = all_divs\n",
    "    event_text = extract_text_from_event_divs(all_divs)\n",
    "    return event_text\n",
    "\n",
    "def extract_span_text(soup):\n",
    "    all_spans = soup.find_all('span')\n",
    "    lowercase_all_divs_classes(all_spans)\n",
    "    # event_spans = filter_event_divs(all_spans)\n",
    "    event_text = extract_text_from_event_divs(all_spans)\n",
    "    return event_text\n",
    "\n",
    "# 2.5 - Preprocess Event Text\n",
    "def lowercase_all_divs_classes(divs):\n",
    "    for div in divs:\n",
    "        if div.has_attr('class'):\n",
    "            div['class'] = [x.lower() for x in div['class']]\n",
    "\n",
    "# TODO: Validate if this is correct\n",
    "# ! Does shorten down html file, but sometimes fails to capture everything\n",
    "# ! Token limit is 32,000 so it is fine for now\n",
    "# def filter_event_divs(all_divs):\n",
    "#     event_divs = []\n",
    "#     for div in all_divs:\n",
    "#         if div.get('class') is not None and any(keyword in div.get('class')[0] for keyword in keywords):\n",
    "#             event_divs.append(div)\n",
    "#     return event_divs\n",
    "\n",
    "def extract_text_from_event_divs(event_divs):\n",
    "    event_text = []\n",
    "    for div in event_divs:\n",
    "        text = div.get_text()\n",
    "        text = [x for x in text.split('\\n') if x != '']\n",
    "        for line in text:\n",
    "            if is_old_event(line):\n",
    "                continue\n",
    "            while '\\n' in line:\n",
    "                line = line.replace('\\n', ' ')\n",
    "            event_text.append(line + '\\n')\n",
    "    return event_text\n",
    "\n",
    "def is_old_event(line):\n",
    "    if any(year in line for year in years):\n",
    "        return True\n",
    "    elif any(month in line for month in old_months):\n",
    "        return True\n",
    "    return False\n",
    "\n",
    "def remove_duplicates(event_text):\n",
    "    return list(set(event_text))\n",
    "\n",
    "# --------------------------------------------------------------------------------------------\n",
    "\n",
    "\n",
    "# 3 - Store event text in a file\n",
    "def write_event_text(event_text, filename):\n",
    "    event_text = [x.encode('ascii', 'ignore').decode('ascii') for x in event_text]\n",
    "    folder = \"extracted_txt\"\n",
    "    file_path = folder + \"/\" + filename\n",
    "    with open(file_path, 'w') as f:\n",
    "        for event in event_text:\n",
    "            if len(event) > 0 or event != ' ':\n",
    "                f.write(event)\n",
    "    f.close()\n",
    "    return 0\n",
    "\n",
    "def test_write_event_text(event_text, filename):\n",
    "    event_text = [x.encode('ascii', 'ignore').decode('ascii') for x in event_text]\n",
    "    print(f\"After Removing Duplicates {len(event_text)}\")\n",
    "    folder = \"test_extractions_txt\"\n",
    "    file_path = folder + \"/\" + filename\n",
    "    with open(file_path, 'w') as f:\n",
    "        for event in event_text:\n",
    "            if len(event) > 0 or event != ' ':\n",
    "                f.write(event)\n",
    "    f.close()\n",
    "    return 0\n",
    "# --------------------------------------------------------------------------------------------\n",
    "\n",
    "# 4 - Convert to JSON or CSV via LLM\n",
    "def convert_to_json(site_index):\n",
    "    input_text = \"\"\" \n",
    "    Convert this text to JSON for events with this schema:\n",
    "    Event:\n",
    "    - Title: The name of the event \n",
    "    - Start Time: Has to be 1 value\n",
    "    - End Time: Has to be 1 value\n",
    "    - Date: (Month, Day) of the event \n",
    "    - Location: Where the event takes place \n",
    "    \n",
    "    Store the objects in a JSON array without duplicate entries.\n",
    "    Close numbers like 911am should be split to 9am and 11am.\n",
    "    \"\"\"\n",
    "    filename = f'site_{site_index}.txt'\n",
    "    with open(f'extracted_txt/{filename}') as f:\n",
    "        site_text = f.read()\n",
    "    input_text += site_text\n",
    "    \n",
    "    chat = model.start_chat()\n",
    "    response = get_chat_response(chat, input_text)\n",
    "    \n",
    "    output = response\n",
    "    while \"`\" in output:\n",
    "        output = output.replace(\"`\", \"\")\n",
    "    output = output.replace(\"JSON\", \"\")\n",
    "    output = output.replace(\"json\", \"\")\n",
    "    \n",
    "    with open(f'event_jsons/site_{site_index}.json', 'w') as f:\n",
    "        f.write(output)\n",
    "    f.close()\n",
    "    \n",
    "    return 0\n",
    "\n",
    "# --------------------------------------------------------------------------------------------\n",
    "\n",
    "# 5 - Read JSON and store in a database\n",
    "def read_json(site_index):\n",
    "    with open(f'event_jsons/site_{site_index}.json') as f:\n",
    "        event_json = f.read()\n",
    "    f.close()\n",
    "    return event_json\n",
    "\n",
    "# X - Store as a CSV for now\n",
    "\n",
    "# --------------------------------------------------------------------------------------------\n",
    "\n",
    "\n",
    "def single_site(site):\n",
    "    html = get_html(site)\n",
    "    print(html)\n",
    "    soup = bs4.BeautifulSoup(html, 'html.parser')\n",
    "    event_text = extract_event_text(soup)\n",
    "    write_event_text(event_text, 'site.txt')    \n",
    "    print(len(event_text))\n",
    "    print(event_text)\n",
    "    return 0\n",
    "\n",
    "def single_site_js(site, id, site_dict):\n",
    "    html = get_html_selenium(site, id, site_dict)\n",
    "    print(html)\n",
    "    soup = bs4.BeautifulSoup(html, 'html.parser')\n",
    "    event_text = extract_event_text(soup)\n",
    "    write_event_text(event_text, 'site.txt')    \n",
    "    print(len(event_text))\n",
    "    print(event_text)\n",
    "    return 0\n",
    "\n",
    "def process_sites():\n",
    "    for i, site in enumerate(lines):\n",
    "        print(f\"Processing site {site}\")\n",
    "\n",
    "        if i in js_sites:\n",
    "            html = get_html_selenium(site, i, js_sites)\n",
    "        else:\n",
    "            html = get_html(site)\n",
    "\n",
    "        soup = bs4.BeautifulSoup(html, 'html.parser')\n",
    "        event_text = extract_event_text(soup)\n",
    "        write_event_text(event_text, f'site_{i}.txt')\n",
    "        convert_to_json(i)\n",
    "\n",
    "        print(f\"Finished processing site {i}\")\n",
    "        # gemini pro free can only process 2 requests per minute\n",
    "        time.sleep(30)\n",
    "    return 0"
   ]
  },
  {
   "cell_type": "code",
   "execution_count": 6,
   "metadata": {},
   "outputs": [
    {
     "name": "stdout",
     "output_type": "stream",
     "text": [
      "Processing site https://scholarslab.lib.virginia.edu/events/\n",
      "Finished processing site 0\n",
      "Processing site https://www.virginia.edu/calendar\n",
      "Found IFRAME\n",
      "Found Button\n",
      "Found IFRAME\n"
     ]
    },
    {
     "ename": "DeadlineExceeded",
     "evalue": "504 Deadline Exceeded",
     "output_type": "error",
     "traceback": [
      "\u001b[1;31m---------------------------------------------------------------------------\u001b[0m",
      "\u001b[1;31mDeadlineExceeded\u001b[0m                          Traceback (most recent call last)",
      "Cell \u001b[1;32mIn[6], line 1\u001b[0m\n\u001b[1;32m----> 1\u001b[0m \u001b[43mprocess_sites\u001b[49m\u001b[43m(\u001b[49m\u001b[43m)\u001b[49m\n",
      "Cell \u001b[1;32mIn[5], line 240\u001b[0m, in \u001b[0;36mprocess_sites\u001b[1;34m()\u001b[0m\n\u001b[0;32m    238\u001b[0m event_text \u001b[38;5;241m=\u001b[39m extract_event_text(soup)\n\u001b[0;32m    239\u001b[0m write_event_text(event_text, \u001b[38;5;124mf\u001b[39m\u001b[38;5;124m'\u001b[39m\u001b[38;5;124msite_\u001b[39m\u001b[38;5;132;01m{\u001b[39;00mi\u001b[38;5;132;01m}\u001b[39;00m\u001b[38;5;124m.txt\u001b[39m\u001b[38;5;124m'\u001b[39m)\n\u001b[1;32m--> 240\u001b[0m \u001b[43mconvert_to_json\u001b[49m\u001b[43m(\u001b[49m\u001b[43mi\u001b[49m\u001b[43m)\u001b[49m\n\u001b[0;32m    242\u001b[0m \u001b[38;5;28mprint\u001b[39m(\u001b[38;5;124mf\u001b[39m\u001b[38;5;124m\"\u001b[39m\u001b[38;5;124mFinished processing site \u001b[39m\u001b[38;5;132;01m{\u001b[39;00mi\u001b[38;5;132;01m}\u001b[39;00m\u001b[38;5;124m\"\u001b[39m)\n\u001b[0;32m    243\u001b[0m \u001b[38;5;66;03m# gemini pro free can only process 2 requests per minute\u001b[39;00m\n",
      "Cell \u001b[1;32mIn[5], line 179\u001b[0m, in \u001b[0;36mconvert_to_json\u001b[1;34m(site_index)\u001b[0m\n\u001b[0;32m    177\u001b[0m \u001b[38;5;28;01mexcept\u001b[39;00m \u001b[38;5;167;01mException\u001b[39;00m \u001b[38;5;28;01mas\u001b[39;00m e:\n\u001b[0;32m    178\u001b[0m     time\u001b[38;5;241m.\u001b[39msleep(\u001b[38;5;241m60\u001b[39m)\n\u001b[1;32m--> 179\u001b[0m     response \u001b[38;5;241m=\u001b[39m \u001b[43mmodel\u001b[49m\u001b[38;5;241;43m.\u001b[39;49m\u001b[43mgenerate_content\u001b[49m\u001b[43m(\u001b[49m\u001b[43minput_text\u001b[49m\u001b[43m)\u001b[49m\n\u001b[0;32m    182\u001b[0m output \u001b[38;5;241m=\u001b[39m response\u001b[38;5;241m.\u001b[39mtext\n\u001b[0;32m    183\u001b[0m \u001b[38;5;28;01mwhile\u001b[39;00m \u001b[38;5;124m\"\u001b[39m\u001b[38;5;124m`\u001b[39m\u001b[38;5;124m\"\u001b[39m \u001b[38;5;129;01min\u001b[39;00m output:\n",
      "File \u001b[1;32mc:\\Python311\\Lib\\site-packages\\google\\generativeai\\generative_models.py:262\u001b[0m, in \u001b[0;36mGenerativeModel.generate_content\u001b[1;34m(self, contents, generation_config, safety_settings, stream, tools, tool_config, request_options)\u001b[0m\n\u001b[0;32m    260\u001b[0m         \u001b[38;5;28;01mreturn\u001b[39;00m generation_types\u001b[38;5;241m.\u001b[39mGenerateContentResponse\u001b[38;5;241m.\u001b[39mfrom_iterator(iterator)\n\u001b[0;32m    261\u001b[0m     \u001b[38;5;28;01melse\u001b[39;00m:\n\u001b[1;32m--> 262\u001b[0m         response \u001b[38;5;241m=\u001b[39m \u001b[38;5;28;43mself\u001b[39;49m\u001b[38;5;241;43m.\u001b[39;49m\u001b[43m_client\u001b[49m\u001b[38;5;241;43m.\u001b[39;49m\u001b[43mgenerate_content\u001b[49m\u001b[43m(\u001b[49m\n\u001b[0;32m    263\u001b[0m \u001b[43m            \u001b[49m\u001b[43mrequest\u001b[49m\u001b[43m,\u001b[49m\n\u001b[0;32m    264\u001b[0m \u001b[43m            \u001b[49m\u001b[38;5;241;43m*\u001b[39;49m\u001b[38;5;241;43m*\u001b[39;49m\u001b[43mrequest_options\u001b[49m\u001b[43m,\u001b[49m\n\u001b[0;32m    265\u001b[0m \u001b[43m        \u001b[49m\u001b[43m)\u001b[49m\n\u001b[0;32m    266\u001b[0m         \u001b[38;5;28;01mreturn\u001b[39;00m generation_types\u001b[38;5;241m.\u001b[39mGenerateContentResponse\u001b[38;5;241m.\u001b[39mfrom_response(response)\n\u001b[0;32m    267\u001b[0m \u001b[38;5;28;01mexcept\u001b[39;00m google\u001b[38;5;241m.\u001b[39mapi_core\u001b[38;5;241m.\u001b[39mexceptions\u001b[38;5;241m.\u001b[39mInvalidArgument \u001b[38;5;28;01mas\u001b[39;00m e:\n",
      "File \u001b[1;32mc:\\Python311\\Lib\\site-packages\\google\\ai\\generativelanguage_v1beta\\services\\generative_service\\client.py:791\u001b[0m, in \u001b[0;36mGenerativeServiceClient.generate_content\u001b[1;34m(self, request, model, contents, retry, timeout, metadata)\u001b[0m\n\u001b[0;32m    788\u001b[0m \u001b[38;5;28mself\u001b[39m\u001b[38;5;241m.\u001b[39m_validate_universe_domain()\n\u001b[0;32m    790\u001b[0m \u001b[38;5;66;03m# Send the request.\u001b[39;00m\n\u001b[1;32m--> 791\u001b[0m response \u001b[38;5;241m=\u001b[39m \u001b[43mrpc\u001b[49m\u001b[43m(\u001b[49m\n\u001b[0;32m    792\u001b[0m \u001b[43m    \u001b[49m\u001b[43mrequest\u001b[49m\u001b[43m,\u001b[49m\n\u001b[0;32m    793\u001b[0m \u001b[43m    \u001b[49m\u001b[43mretry\u001b[49m\u001b[38;5;241;43m=\u001b[39;49m\u001b[43mretry\u001b[49m\u001b[43m,\u001b[49m\n\u001b[0;32m    794\u001b[0m \u001b[43m    \u001b[49m\u001b[43mtimeout\u001b[49m\u001b[38;5;241;43m=\u001b[39;49m\u001b[43mtimeout\u001b[49m\u001b[43m,\u001b[49m\n\u001b[0;32m    795\u001b[0m \u001b[43m    \u001b[49m\u001b[43mmetadata\u001b[49m\u001b[38;5;241;43m=\u001b[39;49m\u001b[43mmetadata\u001b[49m\u001b[43m,\u001b[49m\n\u001b[0;32m    796\u001b[0m \u001b[43m\u001b[49m\u001b[43m)\u001b[49m\n\u001b[0;32m    798\u001b[0m \u001b[38;5;66;03m# Done; return the response.\u001b[39;00m\n\u001b[0;32m    799\u001b[0m \u001b[38;5;28;01mreturn\u001b[39;00m response\n",
      "File \u001b[1;32mc:\\Python311\\Lib\\site-packages\\google\\api_core\\gapic_v1\\method.py:131\u001b[0m, in \u001b[0;36m_GapicCallable.__call__\u001b[1;34m(self, timeout, retry, compression, *args, **kwargs)\u001b[0m\n\u001b[0;32m    128\u001b[0m \u001b[38;5;28;01mif\u001b[39;00m \u001b[38;5;28mself\u001b[39m\u001b[38;5;241m.\u001b[39m_compression \u001b[38;5;129;01mis\u001b[39;00m \u001b[38;5;129;01mnot\u001b[39;00m \u001b[38;5;28;01mNone\u001b[39;00m:\n\u001b[0;32m    129\u001b[0m     kwargs[\u001b[38;5;124m\"\u001b[39m\u001b[38;5;124mcompression\u001b[39m\u001b[38;5;124m\"\u001b[39m] \u001b[38;5;241m=\u001b[39m compression\n\u001b[1;32m--> 131\u001b[0m \u001b[38;5;28;01mreturn\u001b[39;00m \u001b[43mwrapped_func\u001b[49m\u001b[43m(\u001b[49m\u001b[38;5;241;43m*\u001b[39;49m\u001b[43margs\u001b[49m\u001b[43m,\u001b[49m\u001b[43m \u001b[49m\u001b[38;5;241;43m*\u001b[39;49m\u001b[38;5;241;43m*\u001b[39;49m\u001b[43mkwargs\u001b[49m\u001b[43m)\u001b[49m\n",
      "File \u001b[1;32mc:\\Python311\\Lib\\site-packages\\google\\api_core\\retry\\retry_unary.py:293\u001b[0m, in \u001b[0;36mRetry.__call__.<locals>.retry_wrapped_func\u001b[1;34m(*args, **kwargs)\u001b[0m\n\u001b[0;32m    289\u001b[0m target \u001b[38;5;241m=\u001b[39m functools\u001b[38;5;241m.\u001b[39mpartial(func, \u001b[38;5;241m*\u001b[39margs, \u001b[38;5;241m*\u001b[39m\u001b[38;5;241m*\u001b[39mkwargs)\n\u001b[0;32m    290\u001b[0m sleep_generator \u001b[38;5;241m=\u001b[39m exponential_sleep_generator(\n\u001b[0;32m    291\u001b[0m     \u001b[38;5;28mself\u001b[39m\u001b[38;5;241m.\u001b[39m_initial, \u001b[38;5;28mself\u001b[39m\u001b[38;5;241m.\u001b[39m_maximum, multiplier\u001b[38;5;241m=\u001b[39m\u001b[38;5;28mself\u001b[39m\u001b[38;5;241m.\u001b[39m_multiplier\n\u001b[0;32m    292\u001b[0m )\n\u001b[1;32m--> 293\u001b[0m \u001b[38;5;28;01mreturn\u001b[39;00m \u001b[43mretry_target\u001b[49m\u001b[43m(\u001b[49m\n\u001b[0;32m    294\u001b[0m \u001b[43m    \u001b[49m\u001b[43mtarget\u001b[49m\u001b[43m,\u001b[49m\n\u001b[0;32m    295\u001b[0m \u001b[43m    \u001b[49m\u001b[38;5;28;43mself\u001b[39;49m\u001b[38;5;241;43m.\u001b[39;49m\u001b[43m_predicate\u001b[49m\u001b[43m,\u001b[49m\n\u001b[0;32m    296\u001b[0m \u001b[43m    \u001b[49m\u001b[43msleep_generator\u001b[49m\u001b[43m,\u001b[49m\n\u001b[0;32m    297\u001b[0m \u001b[43m    \u001b[49m\u001b[43mtimeout\u001b[49m\u001b[38;5;241;43m=\u001b[39;49m\u001b[38;5;28;43mself\u001b[39;49m\u001b[38;5;241;43m.\u001b[39;49m\u001b[43m_timeout\u001b[49m\u001b[43m,\u001b[49m\n\u001b[0;32m    298\u001b[0m \u001b[43m    \u001b[49m\u001b[43mon_error\u001b[49m\u001b[38;5;241;43m=\u001b[39;49m\u001b[43mon_error\u001b[49m\u001b[43m,\u001b[49m\n\u001b[0;32m    299\u001b[0m \u001b[43m\u001b[49m\u001b[43m)\u001b[49m\n",
      "File \u001b[1;32mc:\\Python311\\Lib\\site-packages\\google\\api_core\\retry\\retry_unary.py:153\u001b[0m, in \u001b[0;36mretry_target\u001b[1;34m(target, predicate, sleep_generator, timeout, on_error, exception_factory, **kwargs)\u001b[0m\n\u001b[0;32m    149\u001b[0m \u001b[38;5;66;03m# pylint: disable=broad-except\u001b[39;00m\n\u001b[0;32m    150\u001b[0m \u001b[38;5;66;03m# This function explicitly must deal with broad exceptions.\u001b[39;00m\n\u001b[0;32m    151\u001b[0m \u001b[38;5;28;01mexcept\u001b[39;00m \u001b[38;5;167;01mException\u001b[39;00m \u001b[38;5;28;01mas\u001b[39;00m exc:\n\u001b[0;32m    152\u001b[0m     \u001b[38;5;66;03m# defer to shared logic for handling errors\u001b[39;00m\n\u001b[1;32m--> 153\u001b[0m     \u001b[43m_retry_error_helper\u001b[49m\u001b[43m(\u001b[49m\n\u001b[0;32m    154\u001b[0m \u001b[43m        \u001b[49m\u001b[43mexc\u001b[49m\u001b[43m,\u001b[49m\n\u001b[0;32m    155\u001b[0m \u001b[43m        \u001b[49m\u001b[43mdeadline\u001b[49m\u001b[43m,\u001b[49m\n\u001b[0;32m    156\u001b[0m \u001b[43m        \u001b[49m\u001b[43msleep\u001b[49m\u001b[43m,\u001b[49m\n\u001b[0;32m    157\u001b[0m \u001b[43m        \u001b[49m\u001b[43merror_list\u001b[49m\u001b[43m,\u001b[49m\n\u001b[0;32m    158\u001b[0m \u001b[43m        \u001b[49m\u001b[43mpredicate\u001b[49m\u001b[43m,\u001b[49m\n\u001b[0;32m    159\u001b[0m \u001b[43m        \u001b[49m\u001b[43mon_error\u001b[49m\u001b[43m,\u001b[49m\n\u001b[0;32m    160\u001b[0m \u001b[43m        \u001b[49m\u001b[43mexception_factory\u001b[49m\u001b[43m,\u001b[49m\n\u001b[0;32m    161\u001b[0m \u001b[43m        \u001b[49m\u001b[43mtimeout\u001b[49m\u001b[43m,\u001b[49m\n\u001b[0;32m    162\u001b[0m \u001b[43m    \u001b[49m\u001b[43m)\u001b[49m\n\u001b[0;32m    163\u001b[0m     \u001b[38;5;66;03m# if exception not raised, sleep before next attempt\u001b[39;00m\n\u001b[0;32m    164\u001b[0m     time\u001b[38;5;241m.\u001b[39msleep(sleep)\n",
      "File \u001b[1;32mc:\\Python311\\Lib\\site-packages\\google\\api_core\\retry\\retry_base.py:212\u001b[0m, in \u001b[0;36m_retry_error_helper\u001b[1;34m(exc, deadline, next_sleep, error_list, predicate_fn, on_error_fn, exc_factory_fn, original_timeout)\u001b[0m\n\u001b[0;32m    206\u001b[0m \u001b[38;5;28;01mif\u001b[39;00m \u001b[38;5;129;01mnot\u001b[39;00m predicate_fn(exc):\n\u001b[0;32m    207\u001b[0m     final_exc, source_exc \u001b[38;5;241m=\u001b[39m exc_factory_fn(\n\u001b[0;32m    208\u001b[0m         error_list,\n\u001b[0;32m    209\u001b[0m         RetryFailureReason\u001b[38;5;241m.\u001b[39mNON_RETRYABLE_ERROR,\n\u001b[0;32m    210\u001b[0m         original_timeout,\n\u001b[0;32m    211\u001b[0m     )\n\u001b[1;32m--> 212\u001b[0m     \u001b[38;5;28;01mraise\u001b[39;00m final_exc \u001b[38;5;28;01mfrom\u001b[39;00m \u001b[38;5;21;01msource_exc\u001b[39;00m\n\u001b[0;32m    213\u001b[0m \u001b[38;5;28;01mif\u001b[39;00m on_error_fn \u001b[38;5;129;01mis\u001b[39;00m \u001b[38;5;129;01mnot\u001b[39;00m \u001b[38;5;28;01mNone\u001b[39;00m:\n\u001b[0;32m    214\u001b[0m     on_error_fn(exc)\n",
      "File \u001b[1;32mc:\\Python311\\Lib\\site-packages\\google\\api_core\\retry\\retry_unary.py:144\u001b[0m, in \u001b[0;36mretry_target\u001b[1;34m(target, predicate, sleep_generator, timeout, on_error, exception_factory, **kwargs)\u001b[0m\n\u001b[0;32m    142\u001b[0m \u001b[38;5;28;01mfor\u001b[39;00m sleep \u001b[38;5;129;01min\u001b[39;00m sleep_generator:\n\u001b[0;32m    143\u001b[0m     \u001b[38;5;28;01mtry\u001b[39;00m:\n\u001b[1;32m--> 144\u001b[0m         result \u001b[38;5;241m=\u001b[39m \u001b[43mtarget\u001b[49m\u001b[43m(\u001b[49m\u001b[43m)\u001b[49m\n\u001b[0;32m    145\u001b[0m         \u001b[38;5;28;01mif\u001b[39;00m inspect\u001b[38;5;241m.\u001b[39misawaitable(result):\n\u001b[0;32m    146\u001b[0m             warnings\u001b[38;5;241m.\u001b[39mwarn(_ASYNC_RETRY_WARNING)\n",
      "File \u001b[1;32mc:\\Python311\\Lib\\site-packages\\google\\api_core\\timeout.py:120\u001b[0m, in \u001b[0;36mTimeToDeadlineTimeout.__call__.<locals>.func_with_timeout\u001b[1;34m(*args, **kwargs)\u001b[0m\n\u001b[0;32m    117\u001b[0m     \u001b[38;5;66;03m# Avoid setting negative timeout\u001b[39;00m\n\u001b[0;32m    118\u001b[0m     kwargs[\u001b[38;5;124m\"\u001b[39m\u001b[38;5;124mtimeout\u001b[39m\u001b[38;5;124m\"\u001b[39m] \u001b[38;5;241m=\u001b[39m \u001b[38;5;28mmax\u001b[39m(\u001b[38;5;241m0\u001b[39m, \u001b[38;5;28mself\u001b[39m\u001b[38;5;241m.\u001b[39m_timeout \u001b[38;5;241m-\u001b[39m time_since_first_attempt)\n\u001b[1;32m--> 120\u001b[0m \u001b[38;5;28;01mreturn\u001b[39;00m \u001b[43mfunc\u001b[49m\u001b[43m(\u001b[49m\u001b[38;5;241;43m*\u001b[39;49m\u001b[43margs\u001b[49m\u001b[43m,\u001b[49m\u001b[43m \u001b[49m\u001b[38;5;241;43m*\u001b[39;49m\u001b[38;5;241;43m*\u001b[39;49m\u001b[43mkwargs\u001b[49m\u001b[43m)\u001b[49m\n",
      "File \u001b[1;32mc:\\Python311\\Lib\\site-packages\\google\\api_core\\grpc_helpers.py:78\u001b[0m, in \u001b[0;36m_wrap_unary_errors.<locals>.error_remapped_callable\u001b[1;34m(*args, **kwargs)\u001b[0m\n\u001b[0;32m     76\u001b[0m     \u001b[38;5;28;01mreturn\u001b[39;00m callable_(\u001b[38;5;241m*\u001b[39margs, \u001b[38;5;241m*\u001b[39m\u001b[38;5;241m*\u001b[39mkwargs)\n\u001b[0;32m     77\u001b[0m \u001b[38;5;28;01mexcept\u001b[39;00m grpc\u001b[38;5;241m.\u001b[39mRpcError \u001b[38;5;28;01mas\u001b[39;00m exc:\n\u001b[1;32m---> 78\u001b[0m     \u001b[38;5;28;01mraise\u001b[39;00m exceptions\u001b[38;5;241m.\u001b[39mfrom_grpc_error(exc) \u001b[38;5;28;01mfrom\u001b[39;00m \u001b[38;5;21;01mexc\u001b[39;00m\n",
      "\u001b[1;31mDeadlineExceeded\u001b[0m: 504 Deadline Exceeded"
     ]
    }
   ],
   "source": [
    "process_sites()"
   ]
  },
  {
   "cell_type": "markdown",
   "metadata": {},
   "source": [
    "### Json Playground"
   ]
  },
  {
   "cell_type": "code",
   "execution_count": null,
   "metadata": {},
   "outputs": [],
   "source": [
    "import json\n",
    "import pandas as pd\n",
    "import matplotlib.pyplot as plt"
   ]
  },
  {
   "cell_type": "code",
   "execution_count": null,
   "metadata": {},
   "outputs": [],
   "source": [
    "def update_year(value):\n",
    "    if pd.isna(value):\n",
    "        return value\n",
    "    return value.replace(year=2024)\n",
    "\n",
    "def convert_to_datetime(value):\n",
    "    new_value = value\n",
    "    \n",
    "    if pd.isna(value) or isinstance(value, pd.Timestamp):\n",
    "        return value\n",
    "    \n",
    "    while \".\" in new_value:\n",
    "        new_value = new_value.replace('.', '')\n",
    "        \n",
    "    for fmt in ('%I:%M%p', '%I:%M %p', '%I%p', '%I %p'):\n",
    "        try:\n",
    "            return pd.to_datetime(new_value, format=fmt)\n",
    "        except ValueError:\n",
    "            pass\n",
    "    return new_value\n",
    "\n",
    "def edit_time(value):\n",
    "    if pd.isna(value) or isinstance(value, pd.Timestamp):\n",
    "        return value\n",
    "    \n",
    "    times = str.split(value, ':')\n",
    "    hour = int(times[0])\n",
    "    if hour > 12:\n",
    "        hour -= 12\n",
    "        return str(hour) + ':' + times[1] + ' pm'\n",
    "    if hour < 10:\n",
    "        return value + ' pm'\n",
    "    else:\n",
    "        return value + ' am'"
   ]
  },
  {
   "cell_type": "code",
   "execution_count": null,
   "metadata": {},
   "outputs": [],
   "source": [
    "listdir_names_list = os.listdir('event_jsons')"
   ]
  },
  {
   "cell_type": "code",
   "execution_count": null,
   "metadata": {},
   "outputs": [],
   "source": [
    "all_events = []\n",
    "event_dfs = []\n",
    "nan_dfs = []\n",
    "discard_dfs = []\n",
    "for file in os.listdir('event_jsons'):\n",
    "    # TODO: Add the department of the event\n",
    "    with open(f'event_jsons/{file}') as f:\n",
    "        text = json.load(f)\n",
    "    f.close()\n",
    "    for event in text:\n",
    "        all_events.append(event)\n",
    "        \n",
    "    df = pd.DataFrame(text)\n",
    "    nan_df = df[df[\"Date\"].isna()]\n",
    "    df[\"Date\"] = pd.to_datetime(df[\"Date\"], format='%B %d', errors='coerce').apply(update_year)\n",
    "    discard_df = df[df[\"Date\"] < datetime.datetime.now()]\n",
    "    df = df[df[\"Date\"] >= datetime.datetime.now()]\n",
    "    df[\"Start Time\"] = df[\"Start Time\"].apply(convert_to_datetime).apply(edit_time).apply(convert_to_datetime)\n",
    "    df[\"End Time\"] = df[\"End Time\"].apply(convert_to_datetime).apply(edit_time).apply(convert_to_datetime)\n",
    "    df.drop_duplicates(subset=['Title'], inplace=True)\n",
    "    event_dfs.append(df)\n",
    "    nan_dfs.append(nan_df)\n",
    "    discard_dfs.append(discard_df)"
   ]
  },
  {
   "cell_type": "code",
   "execution_count": null,
   "metadata": {},
   "outputs": [
    {
     "name": "stdout",
     "output_type": "stream",
     "text": [
      "Total Events 73\n",
      "Discarded Events 14\n"
     ]
    }
   ],
   "source": [
    "all_events_df = pd.concat(event_dfs)\n",
    "all_events_df.reset_index(drop=True, inplace=True)\n",
    "\n",
    "nan_df = pd.concat(nan_dfs)\n",
    "nan_df.reset_index(drop=True, inplace=True)\n",
    "\n",
    "discard_df = pd.concat(discard_dfs)\n",
    "discard_df.reset_index(drop=True, inplace=True)\n",
    "\n",
    "print(f'Total Events {nan_df.shape[0] + all_events_df.shape[0]}')\n",
    "print(f'Discarded Events {discard_df.shape[0]}')"
   ]
  },
  {
   "cell_type": "code",
   "execution_count": null,
   "metadata": {},
   "outputs": [],
   "source": [
    "missing_end_time_rows = all_events_df[\"End Time\"].isna()\n",
    "new_end_time_values = all_events_df.loc[missing_end_time_rows, \"Start Time\"] - datetime.timedelta(hours=1)\n",
    "all_events_df.loc[missing_end_time_rows, \"End Time\"] = new_end_time_values\n",
    "\n",
    "# set both start and etime column dtypes to dt\n",
    "all_events_df[\"Start Time\"] = pd.to_datetime(all_events_df[\"Start Time\"])\n",
    "all_events_df[\"End Time\"] = pd.to_datetime(all_events_df[\"End Time\"])\n",
    "\n",
    "all_events_df[\"Start Time\"] = all_events_df[\"Start Time\"].dt.strftime('%I:%M %p')\n",
    "all_events_df[\"End Time\"] = all_events_df[\"End Time\"].dt.strftime('%I:%M %p')"
   ]
  },
  {
   "cell_type": "code",
   "execution_count": null,
   "metadata": {},
   "outputs": [
    {
     "data": {
      "text/plain": [
       "<matplotlib.collections.LineCollection at 0x149afa8d1d0>"
      ]
     },
     "execution_count": 76,
     "metadata": {},
     "output_type": "execute_result"
    },
    {
     "data": {
      "image/png": "[encoded data removed]",
      "text/plain": [
       "<Figure size 1000x500 with 1 Axes>"
      ]
     },
     "metadata": {},
     "output_type": "display_data"
    }
   ],
   "source": [
    "# sum isna\n",
    "isna = all_events_df.isna().sum()\n",
    "rows = all_events_df.shape[0]\n",
    "isna_percent = isna / rows * 100\n",
    "plt.figure(figsize=(10, 5))\n",
    "plt.bar(isna_percent.index, isna_percent)\n",
    "plt.hlines(20, -.5, 5, colors='r')\n",
    "plt.hlines(10, -.5, 5, colors='r')"
   ]
  },
  {
   "cell_type": "markdown",
   "metadata": {},
   "source": [
    "#### 20% from comm and architecture school, bad html scraping job"
   ]
  },
  {
   "cell_type": "code",
   "execution_count": null,
   "metadata": {},
   "outputs": [],
   "source": [
    "all_events_df.to_csv('allevents_csv/all_events.csv', index=False)\n",
    "nan_df.to_csv('allevents_csv/nan_events.csv', index=False)"
   ]
  },
  {
   "cell_type": "markdown",
   "metadata": {},
   "source": [
    "### LLM Playground"
   ]
  },
  {
   "cell_type": "code",
   "execution_count": 2,
   "metadata": {},
   "outputs": [
    {
     "name": "stdout",
     "output_type": "stream",
     "text": [
      "Hello, there! How can I assist you today?\n",
      "The colors in a rainbow, in order, are:\n",
      "\n",
      "1. Red\n",
      "2. Orange\n",
      "3. Yellow\n",
      "4. Green\n",
      "5. Blue\n",
      "6. Indigo\n",
      "7. Violet\n",
      "\n",
      "You can remember the order of the colors with the acronym ROYGBIV.\n",
      "A rainbow is caused by sunlight interacting with raindrops in the atmosphere. When sunlight hits a raindrop, it is refracted (bent) and reflected inside the raindrop. The light is then refracted again as it exits the raindrop, and the different colors of light are separated out because they are refracted at different angles.\n",
      "\n",
      "For a rainbow to form, the sun must be behind the observer and the raindrops must be in front of the observer. The sun's rays must also be able to reach the raindrops at a specific angle. This is why rainbows are typically seen in the sky opposite the sun, and why they are often seen after a rainstorm, when there are still plenty of raindrops in the air.\n",
      "\n",
      "The size of the raindrops also affects the appearance of the rainbow. Smaller raindrops produce brighter and more distinct rainbows, while larger raindrops produce fainter and more diffuse rainbows.\n",
      "\n",
      "Rainbows are a beautiful and common sight in nature, and they are a reminder of the power of light and the beauty of the natural world.\n"
     ]
    }
   ],
   "source": [
    "import vertexai\n",
    "from vertexai.generative_models import GenerativeModel, ChatSession\n",
    "\n",
    "# TODO(developer): Update and un-comment below lines\n",
    "project_id = \"fourth-webbing-420020\"\n",
    "location = \"us-central1\"\n",
    "vertexai.init(project=project_id, location=location)\n",
    "model = GenerativeModel(\"gemini-1.0-pro\")\n",
    "chat = model.start_chat()\n",
    "\n",
    "def get_chat_response(chat: ChatSession, prompt: str) -> str:\n",
    "    text_response = []\n",
    "    responses = chat.send_message(prompt, stream=True)\n",
    "    for chunk in responses:\n",
    "        text_response.append(chunk.text)\n",
    "    return \"\".join(text_response)\n",
    "\n",
    "prompt = \"Hello.\"\n",
    "print(get_chat_response(chat, prompt))\n",
    "\n",
    "prompt = \"What are all the colors in a rainbow?\"\n",
    "print(get_chat_response(chat, prompt))\n",
    "\n",
    "prompt = \"Why does it appear when it rains?\"\n",
    "print(get_chat_response(chat, prompt))"
   ]
  },
  {
   "cell_type": "code",
   "execution_count": 10,
   "metadata": {},
   "outputs": [
    {
     "name": "stdout",
     "output_type": "stream",
     "text": [
      "Site 0 Length: 2507\n",
      "Cost: $0.000313375\n",
      "Site 1 Length: 7417\n",
      "Cost: $0.000927125\n",
      "Site 2 Length: 15204\n",
      "Cost: $0.0019005\n",
      "Site 3 Length: 3257\n",
      "Cost: $0.00040712500000000004\n",
      "Site 4 Length: 1721\n",
      "Cost: $0.000215125\n",
      "Site 5 Length: 34398\n",
      "Cost: $0.004299750000000001\n",
      "Site 6 Length: 3474\n",
      "Cost: $0.00043425\n",
      "Site 7 Length: 689\n",
      "Cost: $8.612499999999999e-05\n",
      "Site 8 Length: 9840\n",
      "Cost: $0.00123\n",
      "Site 9 Length: 4402\n",
      "Cost: $0.0005502500000000001\n",
      "Site 10 Length: 28200\n",
      "Cost: $0.003525\n",
      "Site 11 Length: 30336\n",
      "Cost: $0.003792\n",
      "Total Cost: $0.017680625000000002\n"
     ]
    }
   ],
   "source": [
    "input_text = \"\"\" \n",
    "    Convert this text to JSON for events with this schema:\n",
    "    Event:\n",
    "    - Title: The name of the event \n",
    "    - Start Time: Has to be 1 value\n",
    "    - End Time: Has to be 1 value\n",
    "    - Date: (Month, Day) of the event \n",
    "    - Location: Where the event takes place \n",
    "    \n",
    "    Store the objects in a JSON array without duplicate entries.\n",
    "    Close numbers like 911am should be split to 9am and 11am.\n",
    "    Exclude '''JSON''' in the text.\n",
    "\"\"\"\n",
    "\n",
    "# print the length of input text after being added upon for each site text\n",
    "cost_per_1000 = 0.000125\n",
    "total_cost = 0\n",
    "for i in range(len(lines)):\n",
    "    with open(f'extracted_txt/site_{i}.txt') as f:\n",
    "        site_text = f.read()\n",
    "    f.close()\n",
    "    site_text += input_text\n",
    "    input_length = len(site_text)\n",
    "    print(f\"Site {i} Length: {len(site_text)}\")\n",
    "    print(f\"Cost: ${cost_per_1000 * (input_length / 1000)}\")\n",
    "    total_cost += cost_per_1000 * (input_length / 1000)\n",
    "print(f\"Total Cost: ${total_cost}\")"
   ]
  },
  {
   "cell_type": "markdown",
   "metadata": {},
   "source": [
    "### Test Functions"
   ]
  },
  {
   "cell_type": "code",
   "execution_count": null,
   "metadata": {},
   "outputs": [
    {
     "name": "stderr",
     "output_type": "stream",
     "text": [
      "."
     ]
    },
    {
     "name": "stdout",
     "output_type": "stream",
     "text": [
      "Found IFRAME\n"
     ]
    },
    {
     "name": "stderr",
     "output_type": "stream",
     "text": [
      "....\n",
      "----------------------------------------------------------------------\n",
      "Ran 5 tests in 17.421s\n",
      "\n",
      "OK\n"
     ]
    },
    {
     "data": {
      "text/plain": [
       "<unittest.main.TestProgram at 0x149abf9b190>"
      ]
     },
     "execution_count": 34,
     "metadata": {},
     "output_type": "execute_result"
    }
   ],
   "source": [
    "import unittest\n",
    "\n",
    "class TestEventExtraction(unittest.TestCase):\n",
    "    def setUp(self):\n",
    "        self.html = \"\"\"\n",
    "        <html>\n",
    "            <body>\n",
    "                <div class=\"event\">Event 1</div>\n",
    "                <div class=\"content\">Content 1</div>\n",
    "                <div class=\"detail\">Detail 1</div>\n",
    "                <div class=\"card\">Card\n",
    "                <div class=\"views\">Views 1</div>\n",
    "                <div class=\"location\">Location 1</div>\n",
    "        </html>\n",
    "        \"\"\"\n",
    "        self.soup = bs4.BeautifulSoup(self.html, 'html.parser')\n",
    "        self.all_divs = self.soup.find_all('div')\n",
    "    \n",
    "    def test_lowercase_all_divs_classes(self):\n",
    "        lowercase_all_divs_classes(self.all_divs)\n",
    "        for div in self.all_divs:\n",
    "            if div.has_attr('class'):\n",
    "                self.assertTrue(all(x.islower() for x in div['class']))\n",
    "    \n",
    "    def test_filter_event_divs(self):\n",
    "        event_divs = filter_event_divs(self.all_divs)\n",
    "        self.assertTrue(all(any(keyword in div.get('class')[0] for keyword in keywords) for div in event_divs))\n",
    "    \n",
    "    def test_is_old_event(self):\n",
    "        old_event = \"Event from 2010\"\n",
    "        self.assertTrue(is_old_event(old_event))\n",
    "                \n",
    "    def test_extract_html(self):\n",
    "        site = 'https://www.google.com'\n",
    "        html = get_html(site)\n",
    "        self.assertIsNotNone(html)\n",
    "        \n",
    "    def test_extract_selenium_html(self):\n",
    "        site = 'https://www.virginia.edu/calendar'\n",
    "        id = 1\n",
    "        site_dict = {4:\"s-lc-mc-evt\",9:\"spud913f6613-59b3-4547-ba85-97693a7c9dbb.iframe\",1:\"trumba.spud.5.iframe\"}\n",
    "        html = get_html_selenium(site, id, site_dict)\n",
    "        self.assertIsNotNone(html)\n",
    "                \n",
    "    \n",
    "    \n",
    "unittest.main(argv=[''], exit=False)"
   ]
  },
  {
   "cell_type": "code",
   "execution_count": null,
   "metadata": {},
   "outputs": [],
   "source": [
    "def test_parsings(sites):\n",
    "    for id, site in enumerate(sites):\n",
    "        if id in js_sites:\n",
    "            html = get_html_selenium(site, id, js_sites)\n",
    "        else:\n",
    "            html = get_html(site)\n",
    "        soup = bs4.BeautifulSoup(html, 'html.parser')\n",
    "        event_text = extract_event_text(soup)\n",
    "        test_write_event_text(event_text, f'site_{id}.txt')\n",
    "        print(len(event_text), site)\n",
    "        \n",
    "    return 0 "
   ]
  },
  {
   "cell_type": "code",
   "execution_count": null,
   "metadata": {},
   "outputs": [
    {
     "name": "stdout",
     "output_type": "stream",
     "text": [
      "After Removing Duplicates 50\n",
      "203 https://scholarslab.lib.virginia.edu/events/\n",
      "Found IFRAME\n",
      "After Removing Duplicates 34\n",
      "35 https://www.virginia.edu/calendar\n",
      "After Removing Duplicates 177\n",
      "2602 https://education.virginia.edu/events\n",
      "After Removing Duplicates 108\n",
      "1012 https://global.virginia.edu/events\n",
      "After Removing Duplicates 229\n",
      "2102 https://cal.lib.virginia.edu/calendar/events?cid=4299&t=m&d=0000-00-00&cal=4299&ct=69160,33395,66337,31015,30813,51597,58853,58854,58855,58856,70846,45972,31362,27888,30045,27381,57994,54907,26930,29624,56703,66253,66255,66338,46136,70848,33496,70427,27725,29618,63738,28898,33396,38996,50481,70849,51598,29985&inc=0\n",
      "After Removing Duplicates 239\n",
      "6737 https://engineering.virginia.edu/news-events/events\n",
      "After Removing Duplicates 61\n",
      "156 https://commcal.mcintire.virginia.edu/\n",
      "After Removing Duplicates 129\n",
      "981 https://www.arch.virginia.edu/events?search=&start=&end=&range=upcoming&events=&pageindex=0&pagesize=12\n",
      "After Removing Duplicates 316\n",
      "1088 https://news.med.virginia.edu/\n",
      "Found IFRAME\n",
      "After Removing Duplicates 22\n",
      "23 https://events.batten.virginia.edu/\n",
      "After Removing Duplicates 188\n",
      "4031 https://economics.virginia.edu/calendar/month?date=2024-04\n",
      "After Removing Duplicates 128\n",
      "1246 https://career.virginia.edu/Employers\n"
     ]
    },
    {
     "data": {
      "text/plain": [
       "0"
      ]
     },
     "execution_count": 36,
     "metadata": {},
     "output_type": "execute_result"
    }
   ],
   "source": [
    "test_parsings(lines)"
   ]
  }
 ],
 "metadata": {
  "kernelspec": {
   "display_name": "Python 3",
   "language": "python",
   "name": "python3"
  },
  "language_info": {
   "codemirror_mode": {
    "name": "ipython",
    "version": 3
   },
   "file_extension": ".py",
   "mimetype": "text/x-python",
   "name": "python",
   "nbconvert_exporter": "python",
   "pygments_lexer": "ipython3",
   "version": "3.11.3"
  }
 },
 "nbformat": 4,
 "nbformat_minor": 2
}
